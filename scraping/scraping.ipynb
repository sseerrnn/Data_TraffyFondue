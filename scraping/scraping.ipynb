{
 "cells": [
  {
   "cell_type": "code",
   "execution_count": 94,
   "metadata": {},
   "outputs": [],
   "source": [
    "from bs4 import BeautifulSoup\n",
    "import requests\n",
    "import pandas as pd\n",
    "import numpy as np\n",
    "import re\n",
    "import time\n",
    "import dateparser\n",
    "import selenium \n",
    "from selenium import webdriver\n",
    "from selenium.webdriver.common.keys import Keys\n",
    "from selenium.webdriver.support.ui import WebDriverWait\n",
    "from selenium.webdriver.support import expected_conditions as EC\n",
    "from selenium.webdriver.common.by import By\n",
    "import pandas as pd\n"
   ]
  },
  {
   "cell_type": "code",
   "execution_count": 95,
   "metadata": {},
   "outputs": [],
   "source": [
    "FIRST_YEAR = 'https://www.myhora.com/%E0%B8%9B%E0%B8%8F%E0%B8%B4%E0%B8%97%E0%B8%B4%E0%B8%99/%E0%B8%A7%E0%B8%B1%E0%B8%99%E0%B8%AB%E0%B8%A2%E0%B8%B8%E0%B8%94-%E0%B8%9E.%E0%B8%A8.2564.aspx'"
   ]
  },
  {
   "cell_type": "code",
   "execution_count": 96,
   "metadata": {},
   "outputs": [],
   "source": [
    "def getPageDate(link):\n",
    "    web = requests.get(link)\n",
    "    soup = BeautifulSoup(web.text, 'html.parser')\n",
    "    all = soup.find_all('div', class_='dxl')\n",
    "    return all\n",
    "\n"
   ]
  },
  {
   "cell_type": "code",
   "execution_count": 97,
   "metadata": {},
   "outputs": [],
   "source": [
    "def getAllPage(first_page):\n",
    "    driver = webdriver.Chrome()\n",
    "    driver.maximize_window()\n",
    "    driver.get(first_page)\n",
    "    iterations = 1\n",
    "    lastpage = '0000'\n",
    "    all = []\n",
    "    while True:\n",
    "        try:\n",
    "            iterations += 1\n",
    "            this_page = driver.find_element(By.XPATH, '//h1[@class=\"main-title\"]').text\n",
    "            if this_page[-4:] < lastpage[-4:]:\n",
    "                break\n",
    "            print(this_page)\n",
    "            all += getPageDate(driver.current_url)\n",
    "            next_page = driver.find_element(By.XPATH, '//div[@class=\"btn-yellow ml-10\"]').click()\n",
    "            WebDriverWait(driver, 10).until(EC.text_to_be_present_in_element((By.XPATH, '//h1[@class=\"main-title\"]'),str(iterations)))\n",
    "            lastpage = this_page\n",
    "        except:\n",
    "            break\n",
    "    driver.close()\n",
    "    return all"
   ]
  },
  {
   "cell_type": "code",
   "execution_count": 98,
   "metadata": {},
   "outputs": [],
   "source": [
    "def collect(first_page):\n",
    "    all = getAllPage(first_page)\n",
    "    date = []\n",
    "    holiday_title  = []\n",
    "    affair_holiday = []\n",
    "    bank_holiday = []\n",
    "\n",
    "\n",
    "    for i in all:\n",
    "        date.append(i.find('div', class_='dxl-dmy').text)\n",
    "        holiday_title.append(i.find('div', class_='dxl-dn').text)\n",
    "        affair = i.find('div', class_='dxl-dn2')\n",
    "        if affair.find('font') is None:\n",
    "            affair_holiday.append(1)\n",
    "        else:\n",
    "            affair_holiday.append(0)\n",
    "        bank = i.find('div', class_='dxl-dn3')\n",
    "        if bank.find('font') is None:\n",
    "            bank_holiday.append(1)\n",
    "        else:\n",
    "            bank_holiday.append(0)\n",
    "    df = pd.DataFrame({'date':date, 'holiday_title':holiday_title, 'affair_holiday':affair_holiday, 'bank_holiday':bank_holiday})\n",
    "    return df\n"
   ]
  },
  {
   "cell_type": "code",
   "execution_count": 112,
   "metadata": {},
   "outputs": [
    {
     "name": "stdout",
     "output_type": "stream",
     "text": [
      "วันหยุด 2564/2021\n",
      "วันหยุด 2565/2022\n",
      "วันหยุด 2566/2023\n",
      "วันหยุด 2567/2024\n"
     ]
    }
   ],
   "source": [
    "df = collect(FIRST_YEAR)"
   ]
  },
  {
   "cell_type": "code",
   "execution_count": 113,
   "metadata": {},
   "outputs": [
    {
     "data": {
      "text/html": [
       "<div>\n",
       "<style scoped>\n",
       "    .dataframe tbody tr th:only-of-type {\n",
       "        vertical-align: middle;\n",
       "    }\n",
       "\n",
       "    .dataframe tbody tr th {\n",
       "        vertical-align: top;\n",
       "    }\n",
       "\n",
       "    .dataframe thead th {\n",
       "        text-align: right;\n",
       "    }\n",
       "</style>\n",
       "<table border=\"1\" class=\"dataframe\">\n",
       "  <thead>\n",
       "    <tr style=\"text-align: right;\">\n",
       "      <th></th>\n",
       "      <th>date</th>\n",
       "      <th>holiday_title</th>\n",
       "      <th>affair_holiday</th>\n",
       "      <th>bank_holiday</th>\n",
       "    </tr>\n",
       "  </thead>\n",
       "  <tbody>\n",
       "    <tr>\n",
       "      <th>0</th>\n",
       "      <td>1มกราคม2564</td>\n",
       "      <td>วันขึ้นปีใหม่</td>\n",
       "      <td>1</td>\n",
       "      <td>1</td>\n",
       "    </tr>\n",
       "    <tr>\n",
       "      <th>1</th>\n",
       "      <td>12กุมภาพันธ์2564</td>\n",
       "      <td>วันตรุษจีน</td>\n",
       "      <td>1</td>\n",
       "      <td>1</td>\n",
       "    </tr>\n",
       "    <tr>\n",
       "      <th>2</th>\n",
       "      <td>26กุมภาพันธ์2564</td>\n",
       "      <td>วันมาฆบูชา</td>\n",
       "      <td>1</td>\n",
       "      <td>1</td>\n",
       "    </tr>\n",
       "    <tr>\n",
       "      <th>3</th>\n",
       "      <td>6เมษายน2564</td>\n",
       "      <td>วันจักรี</td>\n",
       "      <td>1</td>\n",
       "      <td>1</td>\n",
       "    </tr>\n",
       "    <tr>\n",
       "      <th>4</th>\n",
       "      <td>12เมษายน2564</td>\n",
       "      <td>วันสงกรานต์ (ครม.)</td>\n",
       "      <td>1</td>\n",
       "      <td>0</td>\n",
       "    </tr>\n",
       "    <tr>\n",
       "      <th>...</th>\n",
       "      <td>...</td>\n",
       "      <td>...</td>\n",
       "      <td>...</td>\n",
       "      <td>...</td>\n",
       "    </tr>\n",
       "    <tr>\n",
       "      <th>102</th>\n",
       "      <td>14ตุลาคม2567</td>\n",
       "      <td>วันหยุดชดเชย</td>\n",
       "      <td>1</td>\n",
       "      <td>1</td>\n",
       "    </tr>\n",
       "    <tr>\n",
       "      <th>103</th>\n",
       "      <td>23ตุลาคม2567</td>\n",
       "      <td>วันปิยมหาราช</td>\n",
       "      <td>1</td>\n",
       "      <td>1</td>\n",
       "    </tr>\n",
       "    <tr>\n",
       "      <th>104</th>\n",
       "      <td>5ธันวาคม2567</td>\n",
       "      <td>วันคล้ายวันเฉลิมฯ ร.9 , วันพ่อ</td>\n",
       "      <td>1</td>\n",
       "      <td>1</td>\n",
       "    </tr>\n",
       "    <tr>\n",
       "      <th>105</th>\n",
       "      <td>10ธันวาคม2567</td>\n",
       "      <td>วันรัฐธรรมนูญ</td>\n",
       "      <td>1</td>\n",
       "      <td>1</td>\n",
       "    </tr>\n",
       "    <tr>\n",
       "      <th>106</th>\n",
       "      <td>31ธันวาคม2567</td>\n",
       "      <td>วันสิ้นปี</td>\n",
       "      <td>1</td>\n",
       "      <td>1</td>\n",
       "    </tr>\n",
       "  </tbody>\n",
       "</table>\n",
       "<p>107 rows × 4 columns</p>\n",
       "</div>"
      ],
      "text/plain": [
       "                 date                   holiday_title  affair_holiday  \\\n",
       "0         1มกราคม2564                   วันขึ้นปีใหม่               1   \n",
       "1    12กุมภาพันธ์2564                      วันตรุษจีน               1   \n",
       "2    26กุมภาพันธ์2564                      วันมาฆบูชา               1   \n",
       "3         6เมษายน2564                        วันจักรี               1   \n",
       "4        12เมษายน2564              วันสงกรานต์ (ครม.)               1   \n",
       "..                ...                             ...             ...   \n",
       "102      14ตุลาคม2567                    วันหยุดชดเชย               1   \n",
       "103      23ตุลาคม2567                    วันปิยมหาราช               1   \n",
       "104      5ธันวาคม2567  วันคล้ายวันเฉลิมฯ ร.9 , วันพ่อ               1   \n",
       "105     10ธันวาคม2567                   วันรัฐธรรมนูญ               1   \n",
       "106     31ธันวาคม2567                       วันสิ้นปี               1   \n",
       "\n",
       "     bank_holiday  \n",
       "0               1  \n",
       "1               1  \n",
       "2               1  \n",
       "3               1  \n",
       "4               0  \n",
       "..            ...  \n",
       "102             1  \n",
       "103             1  \n",
       "104             1  \n",
       "105             1  \n",
       "106             1  \n",
       "\n",
       "[107 rows x 4 columns]"
      ]
     },
     "execution_count": 113,
     "metadata": {},
     "output_type": "execute_result"
    }
   ],
   "source": [
    "df"
   ]
  },
  {
   "cell_type": "code",
   "execution_count": 114,
   "metadata": {},
   "outputs": [],
   "source": [
    "df['date'] = df['date'].apply(lambda x: dateparser.parse(x).replace(year=(dateparser.parse(x).year)-543))\n",
    "df['weekday'] = df['date'].apply(lambda x: x.weekday())"
   ]
  },
  {
   "cell_type": "code",
   "execution_count": 116,
   "metadata": {},
   "outputs": [],
   "source": [
    "df.to_csv('holiday.csv', index=False)"
   ]
  }
 ],
 "metadata": {
  "kernelspec": {
   "display_name": "Python 3",
   "language": "python",
   "name": "python3"
  },
  "language_info": {
   "codemirror_mode": {
    "name": "ipython",
    "version": 3
   },
   "file_extension": ".py",
   "mimetype": "text/x-python",
   "name": "python",
   "nbconvert_exporter": "python",
   "pygments_lexer": "ipython3",
   "version": "3.9.13"
  },
  "orig_nbformat": 4
 },
 "nbformat": 4,
 "nbformat_minor": 2
}
