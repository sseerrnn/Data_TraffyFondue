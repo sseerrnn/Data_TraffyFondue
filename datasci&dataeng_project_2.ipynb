{
  "cells": [
    {
      "cell_type": "code",
      "execution_count": 15,
      "metadata": {
        "id": "YBAcml2C3FHA"
      },
      "outputs": [],
      "source": [
        "# import findspark\n",
        "# findspark.init()"
      ]
    },
    {
      "cell_type": "code",
      "execution_count": 16,
      "metadata": {
        "id": "nFuLXeUG3XDC"
      },
      "outputs": [],
      "source": [
        "from pyspark.sql import SparkSession\n",
        "\n",
        "spark = SparkSession.builder\\\n",
        "        .master(\"local\")\\\n",
        "        .appName(\"Colab\")\\\n",
        "        .config('spark.ui.port', '4050')\\\n",
        "        .getOrCreate()"
      ]
    },
    {
      "cell_type": "code",
      "execution_count": 17,
      "metadata": {
        "colab": {
          "base_uri": "https://localhost:8080/",
          "height": 219
        },
        "id": "QSQTSbSJ3MH4",
        "outputId": "6ce160c7-b200-49ea-f4e5-f3df2af05ecb"
      },
      "outputs": [
        {
          "data": {
            "text/html": [
              "\n",
              "            <div>\n",
              "                <p><b>SparkSession - in-memory</b></p>\n",
              "                \n",
              "        <div>\n",
              "            <p><b>SparkContext</b></p>\n",
              "\n",
              "            <p><a href=\"http://SSEERRNN-DESKTOP:4050\">Spark UI</a></p>\n",
              "\n",
              "            <dl>\n",
              "              <dt>Version</dt>\n",
              "                <dd><code>v3.4.0</code></dd>\n",
              "              <dt>Master</dt>\n",
              "                <dd><code>local</code></dd>\n",
              "              <dt>AppName</dt>\n",
              "                <dd><code>Colab</code></dd>\n",
              "            </dl>\n",
              "        </div>\n",
              "        \n",
              "            </div>\n",
              "        "
            ],
            "text/plain": [
              "<pyspark.sql.session.SparkSession at 0x1b5efaaf7d0>"
            ]
          },
          "execution_count": 17,
          "metadata": {},
          "output_type": "execute_result"
        }
      ],
      "source": [
        "spark"
      ]
    },
    {
      "attachments": {},
      "cell_type": "markdown",
      "metadata": {
        "id": "snJ1Mdgm5csw"
      },
      "source": [
        "#pre process\n"
      ]
    },
    {
      "cell_type": "code",
      "execution_count": 18,
      "metadata": {
        "colab": {
          "base_uri": "https://localhost:8080/"
        },
        "id": "sC_r_oPDOx41",
        "outputId": "a73b1252-65ec-4d3c-d819-fa34820a3668"
      },
      "outputs": [],
      "source": [
        "import pyspark.pandas as ps\n",
        "import pandas as pd"
      ]
    },
    {
      "cell_type": "code",
      "execution_count": 19,
      "metadata": {
        "id": "qv46Vbp02v8l"
      },
      "outputs": [],
      "source": [
        "df = spark.read.csv(\"spark/bangkok_traffy.csv\", header=True, inferSchema=True,multiLine = True,escape=\"\\\"\",sep=\",\",encoding='utf-8')"
      ]
    },
    {
      "cell_type": "code",
      "execution_count": 20,
      "metadata": {},
      "outputs": [],
      "source": [
        "df = df.select('ticket_id','type','comment')"
      ]
    },
    {
      "cell_type": "code",
      "execution_count": 21,
      "metadata": {
        "colab": {
          "base_uri": "https://localhost:8080/"
        },
        "id": "rtDXjT_Y7AcZ",
        "outputId": "2f1bb2fb-b522-4b2a-d783-e7946897c3d9"
      },
      "outputs": [
        {
          "name": "stdout",
          "output_type": "stream",
          "text": [
            "root\n",
            " |-- ticket_id: string (nullable = true)\n",
            " |-- type: string (nullable = true)\n",
            " |-- comment: string (nullable = true)\n",
            "\n"
          ]
        }
      ],
      "source": [
        "df.printSchema()"
      ]
    },
    {
      "cell_type": "code",
      "execution_count": 22,
      "metadata": {
        "colab": {
          "base_uri": "https://localhost:8080/"
        },
        "id": "V8bto4Owl3mz",
        "outputId": "fa23b738-456f-426e-ed5f-eeacf87651db"
      },
      "outputs": [
        {
          "name": "stdout",
          "output_type": "stream",
          "text": [
            "+-----------+-------------------+----------------------------------------------------------------------------------------------------------------------------------------------------------+\n",
            "|ticket_id  |type               |comment                                                                                                                                                   |\n",
            "+-----------+-------------------+----------------------------------------------------------------------------------------------------------------------------------------------------------+\n",
            "|2021-9LHDM6|{}                 |ไม่มีภาพ                                                                                                                                                  |\n",
            "|2021-FYJTFP|{ความสะอาด}        |ขยะเยอะ                                                                                                                                                   |\n",
            "|2021-8GKAR9|{สายไฟ}            |1. เถาวัลย์งอดบนสายไฟ ผมกลัวว่าต่อไปจะเอาออกยาก และมีน่ำหนักมาก                                                                                           |\n",
            "|2021-AFPUXZ|{ถนน,สะพาน}        |1 ซ่อมทางเท้าหลังคืนพื้นที่จากการปรับปรุงสะพานลอย\\n2 \\n3 ปากซอย สาทร 12 ถนน สาทรเหนือ                                                                     |\n",
            "|2021-CGPMUN|{น้ำท่วม,ร้องเรียน}|น้ำท่วมเวลาฝนตกและทะลุเข้าบ้านเดือดร้อนมากทุกๆปีจะมีเครื่องสูบน้ำแต่ปีนี้ไม่มีกทม.ปล่อยทิ้ง ชุมชนเคหะนคร1แปลง2(ซ.เฉลิมพระเกียรติร.9ซอง22 วัดตะกล่ำ ประเวศ)|\n",
            "+-----------+-------------------+----------------------------------------------------------------------------------------------------------------------------------------------------------+\n",
            "only showing top 5 rows\n",
            "\n"
          ]
        }
      ],
      "source": [
        "df.show(5,truncate = False)"
      ]
    },
    {
      "cell_type": "code",
      "execution_count": 23,
      "metadata": {
        "colab": {
          "base_uri": "https://localhost:8080/"
        },
        "id": "VgZoqWoX3Q9g",
        "outputId": "e1d5b815-7ff6-4a4d-881e-4e9aef229e29"
      },
      "outputs": [
        {
          "name": "stdout",
          "output_type": "stream",
          "text": [
            "62540\n"
          ]
        }
      ],
      "source": [
        "from pyspark.sql.functions import col, isnull\n",
        "filtered_nan_bracket_df = df.filter((col(\"type\") == \"{}\") | col(\"type\").isNull())\n",
        "\n",
        "# Count the number of rows in the filtered DataFrame\n",
        "row_count = filtered_nan_bracket_df.count()\n",
        "print(row_count)"
      ]
    },
    {
      "cell_type": "code",
      "execution_count": 24,
      "metadata": {
        "id": "OKdOiE4A_Ce9"
      },
      "outputs": [],
      "source": [
        "non_matching_df = df.exceptAll(filtered_nan_bracket_df)\n",
        "\n",
        "# Show the non-matching rows (optional)df.show()\n",
        "\n",
        "# Alternatively, you can assign the filtered DataFrame directly\n",
        "bangkok_traffy_df = non_matching_df"
      ]
    },
    {
      "cell_type": "code",
      "execution_count": 26,
      "metadata": {},
      "outputs": [],
      "source": [
        "filtered_nan_bracket_df.toPandas().to_csv('nan_bucket_df.csv')"
      ]
    },
    {
      "cell_type": "code",
      "execution_count": null,
      "metadata": {},
      "outputs": [
        {
          "data": {
            "text/plain": [
              "208676"
            ]
          },
          "execution_count": 11,
          "metadata": {},
          "output_type": "execute_result"
        }
      ],
      "source": [
        "bangkok_traffy_df.count()"
      ]
    },
    {
      "cell_type": "code",
      "execution_count": null,
      "metadata": {},
      "outputs": [],
      "source": [
        "from pyspark.sql.functions import col, udf,length,substring,regexp_replace,split\n",
        "from pyspark.sql.types import ArrayType, IntegerType"
      ]
    },
    {
      "cell_type": "code",
      "execution_count": null,
      "metadata": {},
      "outputs": [],
      "source": [
        "types = ['ถนน','ทางเท้า','แสงสว่าง','ความปลอดภัย','น้ำท่วม','ความสะอาด','กีดขวาง',\n",
        "        'ท่อระบายน้ำ','สะพาน','จราจร','สายไฟ','คลอง','เสียงรบกวน','ต้นไม้','ร้องเรียน',\n",
        "        'ป้าย','สัตว์จรจัด',\"PM25\",'สอบถาม','เสนอแนะ','คนจรจัด','การเดินทาง','ห้องน้ำ','ป้ายจราจร']"
      ]
    },
    {
      "cell_type": "code",
      "execution_count": null,
      "metadata": {},
      "outputs": [
        {
          "name": "stdout",
          "output_type": "stream",
          "text": [
            "+-----------+----------------------------+---------------------------------------------------------------------------------------------------------------------------------------------------------------------------------------------------------------------------------------------------------------------------------------------------------------------------------------------------------------------------------------------------------------------------------------------------------------------------------------------------------------------------------------------------------------------------------------+\n",
            "|ticket_id  |type                        |comment                                                                                                                                                                                                                                                                                                                                                                                                                                                                                                                                                                                |\n",
            "+-----------+----------------------------+---------------------------------------------------------------------------------------------------------------------------------------------------------------------------------------------------------------------------------------------------------------------------------------------------------------------------------------------------------------------------------------------------------------------------------------------------------------------------------------------------------------------------------------------------------------------------------------+\n",
            "|2021-BEJ9PP|[ถนน]                       |สะพานลอยกีดขวางทางเท้า ถนนเล็ก ควรทำเป็นทางข้ามแทน                                                                                                                                                                                                                                                                                                                                                                                                                                                                                                                                     |\n",
            "|2021-DDF9VX|[คลอง, ความปลอดภัย, ทางเท้า]|ฟุตบาทยุบ และแคบมาก อันตรายที่จะพลัดตกลงคลองที่มีความลึกลงไป                                                                                                                                                                                                                                                                                                                                                                                                                                                                                                                           |\n",
            "|2022-8TN97P|[จราจร]                     |เสาไฟจราจรเอียงจะล้ม                                                                                                                                                                                                                                                                                                                                                                                                                                                                                                                                                                   |\n",
            "|2022-GPUWCP|[สายไฟ, ต้นไม้]             |ต้นไม้สู้ชนสายไฟ                                                                                                                                                                                                                                                                                                                                                                                                                                                                                                                                                                       |\n",
            "|2022-KNYYC3|[คลอง, ความสะอาด]           |การทิ้งขยะลงในลำคลอง                                                                                                                                                                                                                                                                                                                                                                                                                                                                                                                                                                   |\n",
            "|2022-VF9KM7|[คลอง, ถนน, ความปลอดภัย]    |ถนนแจ้งวัฒนะซอย 5 ฝั่งหน้าสนง.กสทช.ภาค 1 ยาวเลียบคลองไป แย่มาก ฝนตกทีไรคอนกรีตทรุดเป็นหลุมบ่อ อันตรายมากนะครับ เขตหลักสี่โปรดปรับปรุงให้เรียบ ไม่ใช่แบบปะผุลาดยางไว้แบบไม่เรียบแบบที่ผ่านมา ควรหาทางแก้ถาวรครับ                                                                                                                                                                                                                                                                                                                                                                        |\n",
            "|2022-4KFBZ7|[ถนน]                       |มีหน่วยงานมาขุดถนนแล้วซ่อมได้แย่มากครับ ซอยประดิพัทธ์ 23 เขตพญาไท                                                                                                                                                                                                                                                                                                                                                                                                                                                                                                                      |\n",
            "|2022-DGHKV4|[คลอง]                      |เป็นบึงรับน้ำชื่อบึงเสือขบรกไปด้วยวัจพืชทำให้บึงตื้นเขิน ขุดลอกเอาผักตบชวาออกเพื่อการระบายที่ดี อยู่ในม.3 แขวงคู้ฝั่งเหนือ เขตหนองจอก ท้ายหมู่บ้านเต็มสิริ 1-3                                                                                                                                                                                                                                                                                                                                                                                                                         |\n",
            "|2022-9VA6UQ|[แสงสว่าง]                  |แจ้งไฟส่องสว่าง เกาะกลาง ถ.พหลโยธิน ห้าแยกลาดพร้าว ใต้ทางวิ่งรถไฟฟ้า BTS ระหว่างตอม่อ ต้นที่ P16 – P19 ไฟดับตลอดแนวรวม 10 ดวง  (ตามภาพประกอบ)\\n1. ไฟกิ่งคู่เสาเหล็ก ระหว่างตอม่อ P16 – P17 ดับทั้งเสา 2 ดวง \\n2. ไฟกิ่ง ที่ติดตั้งกับทางเดินสกายวอร์ค (Sky Walk) ระหว่างตอม่อ P17 – P19 ถ.พหลโยธิน ฝั่งขาออก ดับ 4 ดวง และฝั่งขาเข้า ดับ 4 ดวง\\nทั้งนี้ ได้แจ้งเรื่องไปที่แขวงทางหลวงกรุงเทพ กรมทางหลวง แล้วเมื่อวันที่ 11 เม.ย. 2565 และได้รับคำตอบชี้แจงว่า ไฟส่องสว่างดังกล่าวนี้ไม่ได้อยู่ในความรับผิดชอบดูแล จึงสันนิษฐานว่า จะดูแลและรับผิดชอบโดย กทม.\\n(พื้นที่ เขตจตุจักร กทม.)|\n",
            "|2022-DQ2ATN|[ทางเท้า]                   |1.ทางเท้าไม่ได้รับการดูแล ชำรุดทรุดโทรม ต้องดูแลและซ่แมแซมกันเอง\\n2. ไม่มีจุดดับเพลิงหรือถังดับเพลิงสนับสนุนเมื่อเกิดเหตุเพลิงไหม้(เคยเกิดแล้ว)\\n3. ไม่มีแสงสว่างเพียงพอ ทำให้เกิดความเสี่ยง อาชญากรรม (ยาเสพติด คนวิกลจริต โจรลักขโมย) เคยเกิดขึ้นแล้ว ปัจจุบันติดกล้องวงจรปิด เพื่อปกป้องตัวเอง                                                                                                                                                                                                                                                                                      |\n",
            "|2022-44WUA4|[ทางเท้า]                   |อยากให้ผ่อนผัน ขายของที่ฟุตบาทได้ จะได้ไม่เงียบเปลี่ยวค่ะ                                                                                                                                                                                                                                                                                                                                                                                                                                                                                                                              |\n",
            "|2022-DCU2G6|[สัตว์จรจัด]                |สุนัขจรจัดค่ะ                                                                                                                                                                                                                                                                                                                                                                                                                                                                                                                                                                          |\n",
            "|2022-K2WWVB|[คลอง, ความสะอาด]           |จะมีคนมาทิ้งขยะหน้าบ้านทุกวันเลยครับกองใหญ่มากๆ มีทั้งน้ำเน่าเสีย หนู แมลงสาบเกิดเยอะมากๆ ส่งกลิ่นเหม็นรบกวนคนในบ้านครับ อยู่บริเวณหน้าโรงเจครับ ถ.จันทร์ 51 ขยะจะเยอะมากๆตอนประมาณ 2 ทุ่ม ครับ                                                                                                                                                                                                                                                                                                                                                                                        |\n",
            "|2022-66LZTP|[ทางเท้า]                   |ทางเท้า ซอยอ่อนนุช65                                                                                                                                                                                                                                                                                                                                                                                                                                                                                                                                                                   |\n",
            "|2022-3D8V7D|[กีดขวาง]                   |ขวางทาง                                                                                                                                                                                                                                                                                                                                                                                                                                                                                                                                                                                |\n",
            "|2022-KXPY8D|[ทางเท้า]                   |ร้านซ่อมมอเตอร์ไซค์ปิดทางเท้า เดินไม่ได้                                                                                                                                                                                                                                                                                                                                                                                                                                                                                                                                               |\n",
            "|2022-P96KM4|[แสงสว่าง]                  |แจ้งปัญหาไฟส่องสว่างริมถนนบริเวณทางม้าลายหน้าคอนโดไอวี่/ลุมพินี เขตราษฎร์บูรณะ  ค่อนข้างมืดมากค่ะ แถวนี้คนอยู่เยอะรถขับเร็วแต่ไฟริมถนนไม่สว่างเลยค่ะ                                                                                                                                                                                                                                                                                                                                                                                                                                   |\n",
            "|2022-DKBF98|[กีดขวาง]                   |วินมอไซต์จอดกีดขวางป้ายรถเมล์ ทำให้รถเมล์เข้าออกลำบาก แจ้งเทศกิจไปหลายครั้งแล้วไม่ได้รับการแก้ไข                                                                                                                                                                                                                                                                                                                                                                                                                                                                                       |\n",
            "|2022-MBZREL|[ความสะอาด]                 |เเจ้งเรื่องลำคลองบริเวณสุเหร่าบางมะเขือเน่าเสียครับ เนื่องจากตรงนี้เป็นชุมชนติดเเยกพระโขนงและมีหาบเร่เเผงลอยจำนวนมากจึงส่งผลให้คนทิ้งขยะรอบบริเวณและส่ฃกลิ่นเน่าเสียแก่ผู้สัญจรไปมาครับ                                                                                                                                                                                                                                                                                                                                                                                                |\n",
            "|2022-9P4Q3V|[ท่อระบายน้ำ, ถนน, น้ำท่วม] |น้ำท่วมขังในซอยโพธิ์แก้ว 3 แยก 19-2 (ซอยประภาสเพ็ญ) กรุงเทพฯ เนื่องจากถนนไม่มีท่อระบายน้ำ และถนนยังเป็นทางลูกรัง ถนนที่เห็นในรูปนั้นเป็นถนนที่คนในซอยออกเงินทำกันเอง เลยเป็นสภาพชั่วคราวให้พอใช้ได้กันไปก่อนค่ะ ขอความกรุณาเข้ามาตรวจเช็คและแก้ไขให้หน่อยค่ะ เนื่องจากได้เคยมีการทำเรื่องไปหลายครั้งแล้วในอดีต และมี กทม. เคยเข้ามาติดป้ายว่าจะดำเนินการให้ถึง 2 ครั้ง แต่สุดท้ายก็มาเอาป้ายออกโดยที่ไม่ได้ทำถนนหรือแก้ไขใดๆค่ะ ขอบคุณล่วงหน้าค่ะ                                                                                                                                      |\n",
            "+-----------+----------------------------+---------------------------------------------------------------------------------------------------------------------------------------------------------------------------------------------------------------------------------------------------------------------------------------------------------------------------------------------------------------------------------------------------------------------------------------------------------------------------------------------------------------------------------------------------------------------------------------+\n",
            "only showing top 20 rows\n",
            "\n"
          ]
        }
      ],
      "source": [
        "def string_to_list(string):\n",
        "    clean_string = regexp_replace(string, \"[{}]\", \"\")\n",
        "    return split(clean_string, \",\")\n",
        "\n",
        "# Apply the UDF to convert the string_col to a list_col\n",
        "bangkok_traffy_df = bangkok_traffy_df.withColumn(\"type\", string_to_list(df[\"type\"]))\n",
        "\n",
        "# Show the resulting DataFrame\n",
        "bangkok_traffy_df.show(truncate=False)"
      ]
    },
    {
      "cell_type": "code",
      "execution_count": null,
      "metadata": {},
      "outputs": [],
      "source": [
        "def cal_function(x):\n",
        "    x = x.split()\n",
        "    return x"
      ]
    },
    {
      "cell_type": "code",
      "execution_count": null,
      "metadata": {},
      "outputs": [
        {
          "name": "stdout",
          "output_type": "stream",
          "text": [
            "root\n",
            " |-- ticket_id: string (nullable = true)\n",
            " |-- type: array (nullable = true)\n",
            " |    |-- element: string (containsNull = false)\n",
            " |-- comment: string (nullable = true)\n",
            "\n"
          ]
        }
      ],
      "source": [
        "bangkok_traffy_df.printSchema()"
      ]
    },
    {
      "cell_type": "code",
      "execution_count": null,
      "metadata": {},
      "outputs": [],
      "source": [
        "pandas_df = bangkok_traffy_df.toPandas()"
      ]
    },
    {
      "cell_type": "code",
      "execution_count": null,
      "metadata": {},
      "outputs": [],
      "source": [
        "spark.stop()"
      ]
    },
    {
      "cell_type": "code",
      "execution_count": null,
      "metadata": {
        "colab": {
          "base_uri": "https://localhost:8080/",
          "height": 1000
        },
        "id": "Tt4Ae7q6WBju",
        "outputId": "f271f815-9163-4ea1-f673-4d60ce5848d5"
      },
      "outputs": [],
      "source": [
        "bangkok_traffy_df = pandas_df.copy()"
      ]
    },
    {
      "cell_type": "code",
      "execution_count": null,
      "metadata": {},
      "outputs": [
        {
          "name": "stdout",
          "output_type": "stream",
          "text": [
            "<class 'pandas.core.frame.DataFrame'>\n",
            "RangeIndex: 208676 entries, 0 to 208675\n",
            "Data columns (total 3 columns):\n",
            " #   Column     Non-Null Count   Dtype \n",
            "---  ------     --------------   ----- \n",
            " 0   ticket_id  207089 non-null  object\n",
            " 1   type       208676 non-null  object\n",
            " 2   comment    207089 non-null  object\n",
            "dtypes: object(3)\n",
            "memory usage: 4.8+ MB\n"
          ]
        }
      ],
      "source": [
        "bangkok_traffy_df.info()"
      ]
    },
    {
      "cell_type": "code",
      "execution_count": null,
      "metadata": {},
      "outputs": [
        {
          "data": {
            "text/plain": [
              "['ถนน']"
            ]
          },
          "execution_count": 21,
          "metadata": {},
          "output_type": "execute_result"
        }
      ],
      "source": [
        "bangkok_traffy_df['type'][0]"
      ]
    },
    {
      "cell_type": "code",
      "execution_count": null,
      "metadata": {},
      "outputs": [],
      "source": [
        "for i in types:\n",
        "    bangkok_traffy_df[i] = 0"
      ]
    },
    {
      "cell_type": "code",
      "execution_count": null,
      "metadata": {
        "colab": {
          "base_uri": "https://localhost:8080/"
        },
        "id": "Kr_fNQCeDMcj",
        "outputId": "2a7488f4-aa8b-4989-b868-fd8c409380a6"
      },
      "outputs": [],
      "source": [
        "def add_column_for_each_type(rows):\n",
        "    _list = [0 for i in range(len(types))]\n",
        "    for _type in rows[\"type\"]:\n",
        "        if _type[-2:] == \"\\n\":\n",
        "            _type = _type[-2:]    \n",
        "        if _type == \"PM2.5\": _type = \"PM25\"\n",
        "        _list[types.index(_type)] = 1\n",
        "    rows[types] = _list\n",
        "    rows[\"labels\"] = _list\n",
        "    return rows\n",
        "bangkok_traffy_df = bangkok_traffy_df.apply(add_column_for_each_type,axis = \"columns\")"
      ]
    },
    {
      "cell_type": "code",
      "execution_count": null,
      "metadata": {},
      "outputs": [
        {
          "data": {
            "text/html": [
              "<div>\n",
              "<style scoped>\n",
              "    .dataframe tbody tr th:only-of-type {\n",
              "        vertical-align: middle;\n",
              "    }\n",
              "\n",
              "    .dataframe tbody tr th {\n",
              "        vertical-align: top;\n",
              "    }\n",
              "\n",
              "    .dataframe thead th {\n",
              "        text-align: right;\n",
              "    }\n",
              "</style>\n",
              "<table border=\"1\" class=\"dataframe\">\n",
              "  <thead>\n",
              "    <tr style=\"text-align: right;\">\n",
              "      <th></th>\n",
              "      <th>ticket_id</th>\n",
              "      <th>type</th>\n",
              "      <th>comment</th>\n",
              "      <th>ถนน</th>\n",
              "      <th>ทางเท้า</th>\n",
              "      <th>แสงสว่าง</th>\n",
              "      <th>ความปลอดภัย</th>\n",
              "      <th>น้ำท่วม</th>\n",
              "      <th>ความสะอาด</th>\n",
              "      <th>กีดขวาง</th>\n",
              "      <th>...</th>\n",
              "      <th>ป้าย</th>\n",
              "      <th>สัตว์จรจัด</th>\n",
              "      <th>PM25</th>\n",
              "      <th>สอบถาม</th>\n",
              "      <th>เสนอแนะ</th>\n",
              "      <th>คนจรจัด</th>\n",
              "      <th>การเดินทาง</th>\n",
              "      <th>ห้องน้ำ</th>\n",
              "      <th>ป้ายจราจร</th>\n",
              "      <th>labels</th>\n",
              "    </tr>\n",
              "  </thead>\n",
              "  <tbody>\n",
              "    <tr>\n",
              "      <th>0</th>\n",
              "      <td>2021-BEJ9PP</td>\n",
              "      <td>[ถนน]</td>\n",
              "      <td>สะพานลอยกีดขวางทางเท้า ถนนเล็ก ควรทำเป็นทางข้า...</td>\n",
              "      <td>1</td>\n",
              "      <td>0</td>\n",
              "      <td>0</td>\n",
              "      <td>0</td>\n",
              "      <td>0</td>\n",
              "      <td>0</td>\n",
              "      <td>0</td>\n",
              "      <td>...</td>\n",
              "      <td>0</td>\n",
              "      <td>0</td>\n",
              "      <td>0</td>\n",
              "      <td>0</td>\n",
              "      <td>0</td>\n",
              "      <td>0</td>\n",
              "      <td>0</td>\n",
              "      <td>0</td>\n",
              "      <td>0</td>\n",
              "      <td>[1, 0, 0, 0, 0, 0, 0, 0, 0, 0, 0, 0, 0, 0, 0, ...</td>\n",
              "    </tr>\n",
              "    <tr>\n",
              "      <th>1</th>\n",
              "      <td>2021-DDF9VX</td>\n",
              "      <td>[คลอง, ความปลอดภัย, ทางเท้า]</td>\n",
              "      <td>ฟุตบาทยุบ และแคบมาก อันตรายที่จะพลัดตกลงคลองที...</td>\n",
              "      <td>0</td>\n",
              "      <td>1</td>\n",
              "      <td>0</td>\n",
              "      <td>1</td>\n",
              "      <td>0</td>\n",
              "      <td>0</td>\n",
              "      <td>0</td>\n",
              "      <td>...</td>\n",
              "      <td>0</td>\n",
              "      <td>0</td>\n",
              "      <td>0</td>\n",
              "      <td>0</td>\n",
              "      <td>0</td>\n",
              "      <td>0</td>\n",
              "      <td>0</td>\n",
              "      <td>0</td>\n",
              "      <td>0</td>\n",
              "      <td>[0, 1, 0, 1, 0, 0, 0, 0, 0, 0, 0, 1, 0, 0, 0, ...</td>\n",
              "    </tr>\n",
              "    <tr>\n",
              "      <th>2</th>\n",
              "      <td>2022-8TN97P</td>\n",
              "      <td>[จราจร]</td>\n",
              "      <td>เสาไฟจราจรเอียงจะล้ม</td>\n",
              "      <td>0</td>\n",
              "      <td>0</td>\n",
              "      <td>0</td>\n",
              "      <td>0</td>\n",
              "      <td>0</td>\n",
              "      <td>0</td>\n",
              "      <td>0</td>\n",
              "      <td>...</td>\n",
              "      <td>0</td>\n",
              "      <td>0</td>\n",
              "      <td>0</td>\n",
              "      <td>0</td>\n",
              "      <td>0</td>\n",
              "      <td>0</td>\n",
              "      <td>0</td>\n",
              "      <td>0</td>\n",
              "      <td>0</td>\n",
              "      <td>[0, 0, 0, 0, 0, 0, 0, 0, 0, 1, 0, 0, 0, 0, 0, ...</td>\n",
              "    </tr>\n",
              "    <tr>\n",
              "      <th>3</th>\n",
              "      <td>2022-GPUWCP</td>\n",
              "      <td>[สายไฟ, ต้นไม้]</td>\n",
              "      <td>ต้นไม้สู้ชนสายไฟ</td>\n",
              "      <td>0</td>\n",
              "      <td>0</td>\n",
              "      <td>0</td>\n",
              "      <td>0</td>\n",
              "      <td>0</td>\n",
              "      <td>0</td>\n",
              "      <td>0</td>\n",
              "      <td>...</td>\n",
              "      <td>0</td>\n",
              "      <td>0</td>\n",
              "      <td>0</td>\n",
              "      <td>0</td>\n",
              "      <td>0</td>\n",
              "      <td>0</td>\n",
              "      <td>0</td>\n",
              "      <td>0</td>\n",
              "      <td>0</td>\n",
              "      <td>[0, 0, 0, 0, 0, 0, 0, 0, 0, 0, 1, 0, 0, 1, 0, ...</td>\n",
              "    </tr>\n",
              "    <tr>\n",
              "      <th>4</th>\n",
              "      <td>2022-KNYYC3</td>\n",
              "      <td>[คลอง, ความสะอาด]</td>\n",
              "      <td>การทิ้งขยะลงในลำคลอง</td>\n",
              "      <td>0</td>\n",
              "      <td>0</td>\n",
              "      <td>0</td>\n",
              "      <td>0</td>\n",
              "      <td>0</td>\n",
              "      <td>1</td>\n",
              "      <td>0</td>\n",
              "      <td>...</td>\n",
              "      <td>0</td>\n",
              "      <td>0</td>\n",
              "      <td>0</td>\n",
              "      <td>0</td>\n",
              "      <td>0</td>\n",
              "      <td>0</td>\n",
              "      <td>0</td>\n",
              "      <td>0</td>\n",
              "      <td>0</td>\n",
              "      <td>[0, 0, 0, 0, 0, 1, 0, 0, 0, 0, 0, 1, 0, 0, 0, ...</td>\n",
              "    </tr>\n",
              "    <tr>\n",
              "      <th>...</th>\n",
              "      <td>...</td>\n",
              "      <td>...</td>\n",
              "      <td>...</td>\n",
              "      <td>...</td>\n",
              "      <td>...</td>\n",
              "      <td>...</td>\n",
              "      <td>...</td>\n",
              "      <td>...</td>\n",
              "      <td>...</td>\n",
              "      <td>...</td>\n",
              "      <td>...</td>\n",
              "      <td>...</td>\n",
              "      <td>...</td>\n",
              "      <td>...</td>\n",
              "      <td>...</td>\n",
              "      <td>...</td>\n",
              "      <td>...</td>\n",
              "      <td>...</td>\n",
              "      <td>...</td>\n",
              "      <td>...</td>\n",
              "      <td>...</td>\n",
              "    </tr>\n",
              "    <tr>\n",
              "      <th>208671</th>\n",
              "      <td>2023-4989VN</td>\n",
              "      <td>[ถนน, คลอง]</td>\n",
              "      <td>📢🔊🌳🍃🎋แจ้ง มีวัชพืช เลื้อยพัน และไต่ระดับขึ้นสู...</td>\n",
              "      <td>1</td>\n",
              "      <td>0</td>\n",
              "      <td>0</td>\n",
              "      <td>0</td>\n",
              "      <td>0</td>\n",
              "      <td>0</td>\n",
              "      <td>0</td>\n",
              "      <td>...</td>\n",
              "      <td>0</td>\n",
              "      <td>0</td>\n",
              "      <td>0</td>\n",
              "      <td>0</td>\n",
              "      <td>0</td>\n",
              "      <td>0</td>\n",
              "      <td>0</td>\n",
              "      <td>0</td>\n",
              "      <td>0</td>\n",
              "      <td>[1, 0, 0, 0, 0, 0, 0, 0, 0, 0, 0, 1, 0, 0, 0, ...</td>\n",
              "    </tr>\n",
              "    <tr>\n",
              "      <th>208672</th>\n",
              "      <td>UNWWLC</td>\n",
              "      <td>[เสียงรบกวน, ถนน]</td>\n",
              "      <td>‘กรุณาอ่านข้อมูลบรรยายประกอบการปักหมุด’\\n* ปัญ...</td>\n",
              "      <td>1</td>\n",
              "      <td>0</td>\n",
              "      <td>0</td>\n",
              "      <td>0</td>\n",
              "      <td>0</td>\n",
              "      <td>0</td>\n",
              "      <td>0</td>\n",
              "      <td>...</td>\n",
              "      <td>0</td>\n",
              "      <td>0</td>\n",
              "      <td>0</td>\n",
              "      <td>0</td>\n",
              "      <td>0</td>\n",
              "      <td>0</td>\n",
              "      <td>0</td>\n",
              "      <td>0</td>\n",
              "      <td>0</td>\n",
              "      <td>[1, 0, 0, 0, 0, 0, 0, 0, 0, 0, 0, 0, 1, 0, 0, ...</td>\n",
              "    </tr>\n",
              "    <tr>\n",
              "      <th>208673</th>\n",
              "      <td>PT24KT</td>\n",
              "      <td>[สัตว์จรจัด]</td>\n",
              "      <td>ปัญหา : ช่วยจัดการกับนกพิราบ จำนวนมาก\\nจุดสังเ...</td>\n",
              "      <td>0</td>\n",
              "      <td>0</td>\n",
              "      <td>0</td>\n",
              "      <td>0</td>\n",
              "      <td>0</td>\n",
              "      <td>0</td>\n",
              "      <td>0</td>\n",
              "      <td>...</td>\n",
              "      <td>0</td>\n",
              "      <td>1</td>\n",
              "      <td>0</td>\n",
              "      <td>0</td>\n",
              "      <td>0</td>\n",
              "      <td>0</td>\n",
              "      <td>0</td>\n",
              "      <td>0</td>\n",
              "      <td>0</td>\n",
              "      <td>[0, 0, 0, 0, 0, 0, 0, 0, 0, 0, 0, 0, 0, 0, 0, ...</td>\n",
              "    </tr>\n",
              "    <tr>\n",
              "      <th>208674</th>\n",
              "      <td>2023-GL4KWC</td>\n",
              "      <td>[ทางเท้า]</td>\n",
              "      <td>ทางเท้าแบบนี้สภาพไม่ดีเลย กรุณาปรับปรุงโดยด่วน</td>\n",
              "      <td>0</td>\n",
              "      <td>1</td>\n",
              "      <td>0</td>\n",
              "      <td>0</td>\n",
              "      <td>0</td>\n",
              "      <td>0</td>\n",
              "      <td>0</td>\n",
              "      <td>...</td>\n",
              "      <td>0</td>\n",
              "      <td>0</td>\n",
              "      <td>0</td>\n",
              "      <td>0</td>\n",
              "      <td>0</td>\n",
              "      <td>0</td>\n",
              "      <td>0</td>\n",
              "      <td>0</td>\n",
              "      <td>0</td>\n",
              "      <td>[0, 1, 0, 0, 0, 0, 0, 0, 0, 0, 0, 0, 0, 0, 0, ...</td>\n",
              "    </tr>\n",
              "    <tr>\n",
              "      <th>208675</th>\n",
              "      <td>2023-3VZH9L</td>\n",
              "      <td>[ถนน, ต้นไม้, จราจร]</td>\n",
              "      <td>ต้นไม้บังสัญญาณไฟจราจร ถนนวรจักร แยกวรจักร มุ่...</td>\n",
              "      <td>1</td>\n",
              "      <td>0</td>\n",
              "      <td>0</td>\n",
              "      <td>0</td>\n",
              "      <td>0</td>\n",
              "      <td>0</td>\n",
              "      <td>0</td>\n",
              "      <td>...</td>\n",
              "      <td>0</td>\n",
              "      <td>0</td>\n",
              "      <td>0</td>\n",
              "      <td>0</td>\n",
              "      <td>0</td>\n",
              "      <td>0</td>\n",
              "      <td>0</td>\n",
              "      <td>0</td>\n",
              "      <td>0</td>\n",
              "      <td>[1, 0, 0, 0, 0, 0, 0, 0, 0, 1, 0, 0, 0, 1, 0, ...</td>\n",
              "    </tr>\n",
              "  </tbody>\n",
              "</table>\n",
              "<p>208676 rows × 28 columns</p>\n",
              "</div>"
            ],
            "text/plain": [
              "          ticket_id                          type   \n",
              "0       2021-BEJ9PP                         [ถนน]  \\\n",
              "1       2021-DDF9VX  [คลอง, ความปลอดภัย, ทางเท้า]   \n",
              "2       2022-8TN97P                       [จราจร]   \n",
              "3       2022-GPUWCP               [สายไฟ, ต้นไม้]   \n",
              "4       2022-KNYYC3             [คลอง, ความสะอาด]   \n",
              "...             ...                           ...   \n",
              "208671  2023-4989VN                   [ถนน, คลอง]   \n",
              "208672       UNWWLC             [เสียงรบกวน, ถนน]   \n",
              "208673       PT24KT                  [สัตว์จรจัด]   \n",
              "208674  2023-GL4KWC                     [ทางเท้า]   \n",
              "208675  2023-3VZH9L          [ถนน, ต้นไม้, จราจร]   \n",
              "\n",
              "                                                  comment  ถนน  ทางเท้า   \n",
              "0       สะพานลอยกีดขวางทางเท้า ถนนเล็ก ควรทำเป็นทางข้า...    1        0  \\\n",
              "1       ฟุตบาทยุบ และแคบมาก อันตรายที่จะพลัดตกลงคลองที...    0        1   \n",
              "2                                    เสาไฟจราจรเอียงจะล้ม    0        0   \n",
              "3                                        ต้นไม้สู้ชนสายไฟ    0        0   \n",
              "4                                    การทิ้งขยะลงในลำคลอง    0        0   \n",
              "...                                                   ...  ...      ...   \n",
              "208671  📢🔊🌳🍃🎋แจ้ง มีวัชพืช เลื้อยพัน และไต่ระดับขึ้นสู...    1        0   \n",
              "208672  ‘กรุณาอ่านข้อมูลบรรยายประกอบการปักหมุด’\\n* ปัญ...    1        0   \n",
              "208673  ปัญหา : ช่วยจัดการกับนกพิราบ จำนวนมาก\\nจุดสังเ...    0        0   \n",
              "208674     ทางเท้าแบบนี้สภาพไม่ดีเลย กรุณาปรับปรุงโดยด่วน    0        1   \n",
              "208675  ต้นไม้บังสัญญาณไฟจราจร ถนนวรจักร แยกวรจักร มุ่...    1        0   \n",
              "\n",
              "        แสงสว่าง  ความปลอดภัย  น้ำท่วม  ความสะอาด  กีดขวาง  ...  ป้าย   \n",
              "0              0            0        0          0        0  ...     0  \\\n",
              "1              0            1        0          0        0  ...     0   \n",
              "2              0            0        0          0        0  ...     0   \n",
              "3              0            0        0          0        0  ...     0   \n",
              "4              0            0        0          1        0  ...     0   \n",
              "...          ...          ...      ...        ...      ...  ...   ...   \n",
              "208671         0            0        0          0        0  ...     0   \n",
              "208672         0            0        0          0        0  ...     0   \n",
              "208673         0            0        0          0        0  ...     0   \n",
              "208674         0            0        0          0        0  ...     0   \n",
              "208675         0            0        0          0        0  ...     0   \n",
              "\n",
              "        สัตว์จรจัด  PM25  สอบถาม  เสนอแนะ  คนจรจัด  การเดินทาง  ห้องน้ำ   \n",
              "0                0     0       0        0        0           0        0  \\\n",
              "1                0     0       0        0        0           0        0   \n",
              "2                0     0       0        0        0           0        0   \n",
              "3                0     0       0        0        0           0        0   \n",
              "4                0     0       0        0        0           0        0   \n",
              "...            ...   ...     ...      ...      ...         ...      ...   \n",
              "208671           0     0       0        0        0           0        0   \n",
              "208672           0     0       0        0        0           0        0   \n",
              "208673           1     0       0        0        0           0        0   \n",
              "208674           0     0       0        0        0           0        0   \n",
              "208675           0     0       0        0        0           0        0   \n",
              "\n",
              "        ป้ายจราจร                                             labels  \n",
              "0               0  [1, 0, 0, 0, 0, 0, 0, 0, 0, 0, 0, 0, 0, 0, 0, ...  \n",
              "1               0  [0, 1, 0, 1, 0, 0, 0, 0, 0, 0, 0, 1, 0, 0, 0, ...  \n",
              "2               0  [0, 0, 0, 0, 0, 0, 0, 0, 0, 1, 0, 0, 0, 0, 0, ...  \n",
              "3               0  [0, 0, 0, 0, 0, 0, 0, 0, 0, 0, 1, 0, 0, 1, 0, ...  \n",
              "4               0  [0, 0, 0, 0, 0, 1, 0, 0, 0, 0, 0, 1, 0, 0, 0, ...  \n",
              "...           ...                                                ...  \n",
              "208671          0  [1, 0, 0, 0, 0, 0, 0, 0, 0, 0, 0, 1, 0, 0, 0, ...  \n",
              "208672          0  [1, 0, 0, 0, 0, 0, 0, 0, 0, 0, 0, 0, 1, 0, 0, ...  \n",
              "208673          0  [0, 0, 0, 0, 0, 0, 0, 0, 0, 0, 0, 0, 0, 0, 0, ...  \n",
              "208674          0  [0, 1, 0, 0, 0, 0, 0, 0, 0, 0, 0, 0, 0, 0, 0, ...  \n",
              "208675          0  [1, 0, 0, 0, 0, 0, 0, 0, 0, 1, 0, 0, 0, 1, 0, ...  \n",
              "\n",
              "[208676 rows x 28 columns]"
            ]
          },
          "execution_count": 24,
          "metadata": {},
          "output_type": "execute_result"
        }
      ],
      "source": [
        "bangkok_traffy_df"
      ]
    },
    {
      "cell_type": "code",
      "execution_count": null,
      "metadata": {
        "colab": {
          "base_uri": "https://localhost:8080/"
        },
        "id": "cr2bUhuE039L",
        "outputId": "ae2617f1-22bc-4490-edf6-7b637fafea11"
      },
      "outputs": [
        {
          "data": {
            "text/plain": [
              "1587"
            ]
          },
          "execution_count": 25,
          "metadata": {},
          "output_type": "execute_result"
        }
      ],
      "source": [
        "bangkok_traffy_df[\"comment\"].isna().sum()"
      ]
    },
    {
      "attachments": {},
      "cell_type": "markdown",
      "metadata": {
        "id": "_iEhzo_a0498"
      },
      "source": [
        "# multilabel classification (text)"
      ]
    },
    {
      "cell_type": "code",
      "execution_count": null,
      "metadata": {
        "id": "1RoplsNLwnDh"
      },
      "outputs": [],
      "source": [
        "filtered_nan_comment_df = bangkok_traffy_df.loc[bangkok_traffy_df[\"comment\"].isna()]"
      ]
    },
    {
      "cell_type": "code",
      "execution_count": null,
      "metadata": {
        "colab": {
          "base_uri": "https://localhost:8080/"
        },
        "id": "SwVyryFP-mEY",
        "outputId": "24517963-738a-4dfe-a810-ca1bda70872e"
      },
      "outputs": [
        {
          "name": "stdout",
          "output_type": "stream",
          "text": [
            "1587\n"
          ]
        }
      ],
      "source": [
        "print(len(filtered_nan_comment_df))"
      ]
    },
    {
      "cell_type": "code",
      "execution_count": null,
      "metadata": {
        "colab": {
          "base_uri": "https://localhost:8080/"
        },
        "id": "NBCbWK1q5lOi",
        "outputId": "1cd658e4-8ce7-4c69-b853-aeb05eae5fcc"
      },
      "outputs": [
        {
          "name": "stdout",
          "output_type": "stream",
          "text": [
            "207089\n"
          ]
        }
      ],
      "source": [
        "tmp_text_df = bangkok_traffy_df.drop(filtered_nan_comment_df.index.to_numpy())\n",
        "print(len(tmp_text_df))"
      ]
    },
    {
      "cell_type": "code",
      "execution_count": null,
      "metadata": {},
      "outputs": [],
      "source": [
        "tmp_text_df.to_csv('cleaned_data.csv')"
      ]
    },
    {
      "cell_type": "code",
      "execution_count": null,
      "metadata": {},
      "outputs": [],
      "source": [
        "df = tmp_text_df.sample(200)"
      ]
    },
    {
      "cell_type": "code",
      "execution_count": null,
      "metadata": {},
      "outputs": [
        {
          "data": {
            "text/html": [
              "<div>\n",
              "<style scoped>\n",
              "    .dataframe tbody tr th:only-of-type {\n",
              "        vertical-align: middle;\n",
              "    }\n",
              "\n",
              "    .dataframe tbody tr th {\n",
              "        vertical-align: top;\n",
              "    }\n",
              "\n",
              "    .dataframe thead th {\n",
              "        text-align: right;\n",
              "    }\n",
              "</style>\n",
              "<table border=\"1\" class=\"dataframe\">\n",
              "  <thead>\n",
              "    <tr style=\"text-align: right;\">\n",
              "      <th></th>\n",
              "      <th>ticket_id</th>\n",
              "      <th>type</th>\n",
              "      <th>comment</th>\n",
              "      <th>ถนน</th>\n",
              "      <th>ทางเท้า</th>\n",
              "      <th>แสงสว่าง</th>\n",
              "      <th>ความปลอดภัย</th>\n",
              "      <th>น้ำท่วม</th>\n",
              "      <th>ความสะอาด</th>\n",
              "      <th>กีดขวาง</th>\n",
              "      <th>...</th>\n",
              "      <th>ป้าย</th>\n",
              "      <th>สัตว์จรจัด</th>\n",
              "      <th>PM25</th>\n",
              "      <th>สอบถาม</th>\n",
              "      <th>เสนอแนะ</th>\n",
              "      <th>คนจรจัด</th>\n",
              "      <th>การเดินทาง</th>\n",
              "      <th>ห้องน้ำ</th>\n",
              "      <th>ป้ายจราจร</th>\n",
              "      <th>labels</th>\n",
              "    </tr>\n",
              "  </thead>\n",
              "  <tbody>\n",
              "    <tr>\n",
              "      <th>204348</th>\n",
              "      <td>2023-AWGD73</td>\n",
              "      <td>[แสงสว่าง]</td>\n",
              "      <td>ปกติจะต้องมีไฟติดไหมคะ อุโมงค์ทางรอด อันนี้มืด...</td>\n",
              "      <td>0</td>\n",
              "      <td>0</td>\n",
              "      <td>1</td>\n",
              "      <td>0</td>\n",
              "      <td>0</td>\n",
              "      <td>0</td>\n",
              "      <td>0</td>\n",
              "      <td>...</td>\n",
              "      <td>0</td>\n",
              "      <td>0</td>\n",
              "      <td>0</td>\n",
              "      <td>0</td>\n",
              "      <td>0</td>\n",
              "      <td>0</td>\n",
              "      <td>0</td>\n",
              "      <td>0</td>\n",
              "      <td>0</td>\n",
              "      <td>[0, 0, 1, 0, 0, 0, 0, 0, 0, 0, 0, 0, 0, 0, 0, ...</td>\n",
              "    </tr>\n",
              "    <tr>\n",
              "      <th>110563</th>\n",
              "      <td>2022-3H8P6D</td>\n",
              "      <td>[จราจร]</td>\n",
              "      <td>รถติด</td>\n",
              "      <td>0</td>\n",
              "      <td>0</td>\n",
              "      <td>0</td>\n",
              "      <td>0</td>\n",
              "      <td>0</td>\n",
              "      <td>0</td>\n",
              "      <td>0</td>\n",
              "      <td>...</td>\n",
              "      <td>0</td>\n",
              "      <td>0</td>\n",
              "      <td>0</td>\n",
              "      <td>0</td>\n",
              "      <td>0</td>\n",
              "      <td>0</td>\n",
              "      <td>0</td>\n",
              "      <td>0</td>\n",
              "      <td>0</td>\n",
              "      <td>[0, 0, 0, 0, 0, 0, 0, 0, 0, 1, 0, 0, 0, 0, 0, ...</td>\n",
              "    </tr>\n",
              "    <tr>\n",
              "      <th>162314</th>\n",
              "      <td>2023-MNFBDB</td>\n",
              "      <td>[น้ำท่วม]</td>\n",
              "      <td>ร่องระบายน้ำไม่ได้จริง ร่องระบายน้ำไม่เชื่อมต่...</td>\n",
              "      <td>0</td>\n",
              "      <td>0</td>\n",
              "      <td>0</td>\n",
              "      <td>0</td>\n",
              "      <td>1</td>\n",
              "      <td>0</td>\n",
              "      <td>0</td>\n",
              "      <td>...</td>\n",
              "      <td>0</td>\n",
              "      <td>0</td>\n",
              "      <td>0</td>\n",
              "      <td>0</td>\n",
              "      <td>0</td>\n",
              "      <td>0</td>\n",
              "      <td>0</td>\n",
              "      <td>0</td>\n",
              "      <td>0</td>\n",
              "      <td>[0, 0, 0, 0, 1, 0, 0, 0, 0, 0, 0, 0, 0, 0, 0, ...</td>\n",
              "    </tr>\n",
              "    <tr>\n",
              "      <th>204310</th>\n",
              "      <td>2023-NAR3G4</td>\n",
              "      <td>[ป้าย]</td>\n",
              "      <td>ป้ายติดอยู่ที่ไฟสัญญาณจราจร</td>\n",
              "      <td>0</td>\n",
              "      <td>0</td>\n",
              "      <td>0</td>\n",
              "      <td>0</td>\n",
              "      <td>0</td>\n",
              "      <td>0</td>\n",
              "      <td>0</td>\n",
              "      <td>...</td>\n",
              "      <td>1</td>\n",
              "      <td>0</td>\n",
              "      <td>0</td>\n",
              "      <td>0</td>\n",
              "      <td>0</td>\n",
              "      <td>0</td>\n",
              "      <td>0</td>\n",
              "      <td>0</td>\n",
              "      <td>0</td>\n",
              "      <td>[0, 0, 0, 0, 0, 0, 0, 0, 0, 0, 0, 0, 0, 0, 0, ...</td>\n",
              "    </tr>\n",
              "    <tr>\n",
              "      <th>4217</th>\n",
              "      <td>2022-96Q4QA</td>\n",
              "      <td>[สะพาน, ถนน]</td>\n",
              "      <td>รถสองแถวจอดแช่บริเวณขาวแดงใกล้สี่แยกทำให้เกิดป...</td>\n",
              "      <td>1</td>\n",
              "      <td>0</td>\n",
              "      <td>0</td>\n",
              "      <td>0</td>\n",
              "      <td>0</td>\n",
              "      <td>0</td>\n",
              "      <td>0</td>\n",
              "      <td>...</td>\n",
              "      <td>0</td>\n",
              "      <td>0</td>\n",
              "      <td>0</td>\n",
              "      <td>0</td>\n",
              "      <td>0</td>\n",
              "      <td>0</td>\n",
              "      <td>0</td>\n",
              "      <td>0</td>\n",
              "      <td>0</td>\n",
              "      <td>[1, 0, 0, 0, 0, 0, 0, 0, 1, 0, 0, 0, 0, 0, 0, ...</td>\n",
              "    </tr>\n",
              "    <tr>\n",
              "      <th>...</th>\n",
              "      <td>...</td>\n",
              "      <td>...</td>\n",
              "      <td>...</td>\n",
              "      <td>...</td>\n",
              "      <td>...</td>\n",
              "      <td>...</td>\n",
              "      <td>...</td>\n",
              "      <td>...</td>\n",
              "      <td>...</td>\n",
              "      <td>...</td>\n",
              "      <td>...</td>\n",
              "      <td>...</td>\n",
              "      <td>...</td>\n",
              "      <td>...</td>\n",
              "      <td>...</td>\n",
              "      <td>...</td>\n",
              "      <td>...</td>\n",
              "      <td>...</td>\n",
              "      <td>...</td>\n",
              "      <td>...</td>\n",
              "      <td>...</td>\n",
              "    </tr>\n",
              "    <tr>\n",
              "      <th>191165</th>\n",
              "      <td>2022-39CCPN</td>\n",
              "      <td>[ความสะอาด, ต้นไม้]</td>\n",
              "      <td>แจ้งเรื่องต้นไม้ ขยะไปนานมากแล้ว</td>\n",
              "      <td>0</td>\n",
              "      <td>0</td>\n",
              "      <td>0</td>\n",
              "      <td>0</td>\n",
              "      <td>0</td>\n",
              "      <td>1</td>\n",
              "      <td>0</td>\n",
              "      <td>...</td>\n",
              "      <td>0</td>\n",
              "      <td>0</td>\n",
              "      <td>0</td>\n",
              "      <td>0</td>\n",
              "      <td>0</td>\n",
              "      <td>0</td>\n",
              "      <td>0</td>\n",
              "      <td>0</td>\n",
              "      <td>0</td>\n",
              "      <td>[0, 0, 0, 0, 0, 1, 0, 0, 0, 0, 0, 0, 0, 1, 0, ...</td>\n",
              "    </tr>\n",
              "    <tr>\n",
              "      <th>62335</th>\n",
              "      <td>2023-N8GHVZ</td>\n",
              "      <td>[ทางเท้า]</td>\n",
              "      <td>นั่งล้างของบนฟุตบาท นั่งเเบบปิดฟุตบาท คนเดินไม...</td>\n",
              "      <td>0</td>\n",
              "      <td>1</td>\n",
              "      <td>0</td>\n",
              "      <td>0</td>\n",
              "      <td>0</td>\n",
              "      <td>0</td>\n",
              "      <td>0</td>\n",
              "      <td>...</td>\n",
              "      <td>0</td>\n",
              "      <td>0</td>\n",
              "      <td>0</td>\n",
              "      <td>0</td>\n",
              "      <td>0</td>\n",
              "      <td>0</td>\n",
              "      <td>0</td>\n",
              "      <td>0</td>\n",
              "      <td>0</td>\n",
              "      <td>[0, 1, 0, 0, 0, 0, 0, 0, 0, 0, 0, 0, 0, 0, 0, ...</td>\n",
              "    </tr>\n",
              "    <tr>\n",
              "      <th>7734</th>\n",
              "      <td>2022-GVCT2P</td>\n",
              "      <td>[น้ำท่วม, ทางเท้า]</td>\n",
              "      <td>การปะปาขุดฟุตบาท​แล้วไม่ปูกระเบื้องให้เหมือนเด...</td>\n",
              "      <td>0</td>\n",
              "      <td>1</td>\n",
              "      <td>0</td>\n",
              "      <td>0</td>\n",
              "      <td>1</td>\n",
              "      <td>0</td>\n",
              "      <td>0</td>\n",
              "      <td>...</td>\n",
              "      <td>0</td>\n",
              "      <td>0</td>\n",
              "      <td>0</td>\n",
              "      <td>0</td>\n",
              "      <td>0</td>\n",
              "      <td>0</td>\n",
              "      <td>0</td>\n",
              "      <td>0</td>\n",
              "      <td>0</td>\n",
              "      <td>[0, 1, 0, 0, 1, 0, 0, 0, 0, 0, 0, 0, 0, 0, 0, ...</td>\n",
              "    </tr>\n",
              "    <tr>\n",
              "      <th>31471</th>\n",
              "      <td>2022-9UHBWD</td>\n",
              "      <td>[น้ำท่วม]</td>\n",
              "      <td>น้ำท่วม</td>\n",
              "      <td>0</td>\n",
              "      <td>0</td>\n",
              "      <td>0</td>\n",
              "      <td>0</td>\n",
              "      <td>1</td>\n",
              "      <td>0</td>\n",
              "      <td>0</td>\n",
              "      <td>...</td>\n",
              "      <td>0</td>\n",
              "      <td>0</td>\n",
              "      <td>0</td>\n",
              "      <td>0</td>\n",
              "      <td>0</td>\n",
              "      <td>0</td>\n",
              "      <td>0</td>\n",
              "      <td>0</td>\n",
              "      <td>0</td>\n",
              "      <td>[0, 0, 0, 0, 1, 0, 0, 0, 0, 0, 0, 0, 0, 0, 0, ...</td>\n",
              "    </tr>\n",
              "    <tr>\n",
              "      <th>35596</th>\n",
              "      <td>2022-3AC3CL</td>\n",
              "      <td>[สัตว์จรจัด]</td>\n",
              "      <td>ต้องการให้ทำหมันแมวจรในซอยเจริญนคร 14 แยก 12 (...</td>\n",
              "      <td>0</td>\n",
              "      <td>0</td>\n",
              "      <td>0</td>\n",
              "      <td>0</td>\n",
              "      <td>0</td>\n",
              "      <td>0</td>\n",
              "      <td>0</td>\n",
              "      <td>...</td>\n",
              "      <td>0</td>\n",
              "      <td>1</td>\n",
              "      <td>0</td>\n",
              "      <td>0</td>\n",
              "      <td>0</td>\n",
              "      <td>0</td>\n",
              "      <td>0</td>\n",
              "      <td>0</td>\n",
              "      <td>0</td>\n",
              "      <td>[0, 0, 0, 0, 0, 0, 0, 0, 0, 0, 0, 0, 0, 0, 0, ...</td>\n",
              "    </tr>\n",
              "  </tbody>\n",
              "</table>\n",
              "<p>200 rows × 28 columns</p>\n",
              "</div>"
            ],
            "text/plain": [
              "          ticket_id                 type   \n",
              "204348  2023-AWGD73           [แสงสว่าง]  \\\n",
              "110563  2022-3H8P6D              [จราจร]   \n",
              "162314  2023-MNFBDB            [น้ำท่วม]   \n",
              "204310  2023-NAR3G4               [ป้าย]   \n",
              "4217    2022-96Q4QA         [สะพาน, ถนน]   \n",
              "...             ...                  ...   \n",
              "191165  2022-39CCPN  [ความสะอาด, ต้นไม้]   \n",
              "62335   2023-N8GHVZ            [ทางเท้า]   \n",
              "7734    2022-GVCT2P   [น้ำท่วม, ทางเท้า]   \n",
              "31471   2022-9UHBWD            [น้ำท่วม]   \n",
              "35596   2022-3AC3CL         [สัตว์จรจัด]   \n",
              "\n",
              "                                                  comment  ถนน  ทางเท้า   \n",
              "204348  ปกติจะต้องมีไฟติดไหมคะ อุโมงค์ทางรอด อันนี้มืด...    0        0  \\\n",
              "110563                                              รถติด    0        0   \n",
              "162314  ร่องระบายน้ำไม่ได้จริง ร่องระบายน้ำไม่เชื่อมต่...    0        0   \n",
              "204310                        ป้ายติดอยู่ที่ไฟสัญญาณจราจร    0        0   \n",
              "4217    รถสองแถวจอดแช่บริเวณขาวแดงใกล้สี่แยกทำให้เกิดป...    1        0   \n",
              "...                                                   ...  ...      ...   \n",
              "191165                   แจ้งเรื่องต้นไม้ ขยะไปนานมากแล้ว    0        0   \n",
              "62335   นั่งล้างของบนฟุตบาท นั่งเเบบปิดฟุตบาท คนเดินไม...    0        1   \n",
              "7734    การปะปาขุดฟุตบาท​แล้วไม่ปูกระเบื้องให้เหมือนเด...    0        1   \n",
              "31471                                             น้ำท่วม    0        0   \n",
              "35596   ต้องการให้ทำหมันแมวจรในซอยเจริญนคร 14 แยก 12 (...    0        0   \n",
              "\n",
              "        แสงสว่าง  ความปลอดภัย  น้ำท่วม  ความสะอาด  กีดขวาง  ...  ป้าย   \n",
              "204348         1            0        0          0        0  ...     0  \\\n",
              "110563         0            0        0          0        0  ...     0   \n",
              "162314         0            0        1          0        0  ...     0   \n",
              "204310         0            0        0          0        0  ...     1   \n",
              "4217           0            0        0          0        0  ...     0   \n",
              "...          ...          ...      ...        ...      ...  ...   ...   \n",
              "191165         0            0        0          1        0  ...     0   \n",
              "62335          0            0        0          0        0  ...     0   \n",
              "7734           0            0        1          0        0  ...     0   \n",
              "31471          0            0        1          0        0  ...     0   \n",
              "35596          0            0        0          0        0  ...     0   \n",
              "\n",
              "        สัตว์จรจัด  PM25  สอบถาม  เสนอแนะ  คนจรจัด  การเดินทาง  ห้องน้ำ   \n",
              "204348           0     0       0        0        0           0        0  \\\n",
              "110563           0     0       0        0        0           0        0   \n",
              "162314           0     0       0        0        0           0        0   \n",
              "204310           0     0       0        0        0           0        0   \n",
              "4217             0     0       0        0        0           0        0   \n",
              "...            ...   ...     ...      ...      ...         ...      ...   \n",
              "191165           0     0       0        0        0           0        0   \n",
              "62335            0     0       0        0        0           0        0   \n",
              "7734             0     0       0        0        0           0        0   \n",
              "31471            0     0       0        0        0           0        0   \n",
              "35596            1     0       0        0        0           0        0   \n",
              "\n",
              "        ป้ายจราจร                                             labels  \n",
              "204348          0  [0, 0, 1, 0, 0, 0, 0, 0, 0, 0, 0, 0, 0, 0, 0, ...  \n",
              "110563          0  [0, 0, 0, 0, 0, 0, 0, 0, 0, 1, 0, 0, 0, 0, 0, ...  \n",
              "162314          0  [0, 0, 0, 0, 1, 0, 0, 0, 0, 0, 0, 0, 0, 0, 0, ...  \n",
              "204310          0  [0, 0, 0, 0, 0, 0, 0, 0, 0, 0, 0, 0, 0, 0, 0, ...  \n",
              "4217            0  [1, 0, 0, 0, 0, 0, 0, 0, 1, 0, 0, 0, 0, 0, 0, ...  \n",
              "...           ...                                                ...  \n",
              "191165          0  [0, 0, 0, 0, 0, 1, 0, 0, 0, 0, 0, 0, 0, 1, 0, ...  \n",
              "62335           0  [0, 1, 0, 0, 0, 0, 0, 0, 0, 0, 0, 0, 0, 0, 0, ...  \n",
              "7734            0  [0, 1, 0, 0, 1, 0, 0, 0, 0, 0, 0, 0, 0, 0, 0, ...  \n",
              "31471           0  [0, 0, 0, 0, 1, 0, 0, 0, 0, 0, 0, 0, 0, 0, 0, ...  \n",
              "35596           0  [0, 0, 0, 0, 0, 0, 0, 0, 0, 0, 0, 0, 0, 0, 0, ...  \n",
              "\n",
              "[200 rows x 28 columns]"
            ]
          },
          "execution_count": 31,
          "metadata": {},
          "output_type": "execute_result"
        }
      ],
      "source": [
        "df"
      ]
    },
    {
      "cell_type": "code",
      "execution_count": null,
      "metadata": {},
      "outputs": [],
      "source": [
        "from sklearn.model_selection import train_test_split"
      ]
    },
    {
      "cell_type": "code",
      "execution_count": null,
      "metadata": {},
      "outputs": [],
      "source": [
        "X_train, X_test, y_train, y_test = train_test_split(df['comment'], df['labels'], test_size=0.1, random_state=42)\n",
        "# X_train, X_val, y_train, y_val = train_test_split(X_train, y_train , stratify=y_train , test_size=1/9, random_state=42)"
      ]
    },
    {
      "cell_type": "code",
      "execution_count": null,
      "metadata": {},
      "outputs": [],
      "source": [
        "train = pd.concat([X_train, y_train], axis=1)\n",
        "test = pd.concat([X_test, y_test], axis=1)"
      ]
    },
    {
      "cell_type": "code",
      "execution_count": null,
      "metadata": {},
      "outputs": [],
      "source": [
        "from transformers import AutoTokenizer,BertTokenizer\n",
        "# import torch\n",
        "# import torch.nn as nn\n",
        "# from torch.utils.data import Dataset, DataLoader"
      ]
    },
    {
      "cell_type": "code",
      "execution_count": null,
      "metadata": {},
      "outputs": [
        {
          "ename": "OSError",
          "evalue": "Model name 'airesearch/wangchanberta-base-att-spm-uncased' was not found in tokenizers model name list (bert-base-uncased, bert-large-uncased, bert-base-cased, bert-large-cased, bert-base-multilingual-uncased, bert-base-multilingual-cased, bert-base-chinese, bert-base-german-cased, bert-large-uncased-whole-word-masking, bert-large-cased-whole-word-masking, bert-large-uncased-whole-word-masking-finetuned-squad, bert-large-cased-whole-word-masking-finetuned-squad, bert-base-cased-finetuned-mrpc, bert-base-german-dbmdz-cased, bert-base-german-dbmdz-uncased). We assumed 'airesearch/wangchanberta-base-att-spm-uncased' was a path or url to a directory containing vocabulary files named ['vocab.txt'] but couldn't find such vocabulary files at this path or url.",
          "output_type": "error",
          "traceback": [
            "\u001b[1;31m---------------------------------------------------------------------------\u001b[0m",
            "\u001b[1;31mOSError\u001b[0m                                   Traceback (most recent call last)",
            "Cell \u001b[1;32mIn[53], line 1\u001b[0m\n\u001b[1;32m----> 1\u001b[0m tokenizer \u001b[39m=\u001b[39m AutoTokenizer\u001b[39m.\u001b[39;49mfrom_pretrained(\u001b[39m\"\u001b[39;49m\u001b[39mairesearch/wangchanberta-base-att-spm-uncased\u001b[39;49m\u001b[39m\"\u001b[39;49m)\n\u001b[0;32m      2\u001b[0m \u001b[39m# class Dataset(torch.utils.data.Dataset):\u001b[39;00m\n\u001b[0;32m      3\u001b[0m \n\u001b[0;32m      4\u001b[0m \u001b[39m#     def __init__(self, df):\u001b[39;00m\n\u001b[1;32m   (...)\u001b[0m\n\u001b[0;32m     30\u001b[0m \n\u001b[0;32m     31\u001b[0m \u001b[39m#         return batch_texts, batch_y\u001b[39;00m\n",
            "File \u001b[1;32mc:\\Users\\sern7\\anaconda3\\envs\\spark_torch\\Lib\\site-packages\\transformers\\tokenization_auto.py:109\u001b[0m, in \u001b[0;36mAutoTokenizer.from_pretrained\u001b[1;34m(cls, pretrained_model_name_or_path, *inputs, **kwargs)\u001b[0m\n\u001b[0;32m    107\u001b[0m     \u001b[39mreturn\u001b[39;00m RobertaTokenizer\u001b[39m.\u001b[39mfrom_pretrained(pretrained_model_name_or_path, \u001b[39m*\u001b[39minputs, \u001b[39m*\u001b[39m\u001b[39m*\u001b[39mkwargs)\n\u001b[0;32m    108\u001b[0m \u001b[39melif\u001b[39;00m \u001b[39m'\u001b[39m\u001b[39mbert\u001b[39m\u001b[39m'\u001b[39m \u001b[39min\u001b[39;00m pretrained_model_name_or_path:\n\u001b[1;32m--> 109\u001b[0m     \u001b[39mreturn\u001b[39;00m BertTokenizer\u001b[39m.\u001b[39;49mfrom_pretrained(pretrained_model_name_or_path, \u001b[39m*\u001b[39;49minputs, \u001b[39m*\u001b[39;49m\u001b[39m*\u001b[39;49mkwargs)\n\u001b[0;32m    110\u001b[0m \u001b[39melif\u001b[39;00m \u001b[39m'\u001b[39m\u001b[39mopenai-gpt\u001b[39m\u001b[39m'\u001b[39m \u001b[39min\u001b[39;00m pretrained_model_name_or_path:\n\u001b[0;32m    111\u001b[0m     \u001b[39mreturn\u001b[39;00m OpenAIGPTTokenizer\u001b[39m.\u001b[39mfrom_pretrained(pretrained_model_name_or_path, \u001b[39m*\u001b[39minputs, \u001b[39m*\u001b[39m\u001b[39m*\u001b[39mkwargs)\n",
            "File \u001b[1;32mc:\\Users\\sern7\\anaconda3\\envs\\spark_torch\\Lib\\site-packages\\transformers\\tokenization_utils.py:282\u001b[0m, in \u001b[0;36mPreTrainedTokenizer.from_pretrained\u001b[1;34m(cls, *inputs, **kwargs)\u001b[0m\n\u001b[0;32m    236\u001b[0m \u001b[39m@classmethod\u001b[39m\n\u001b[0;32m    237\u001b[0m \u001b[39mdef\u001b[39;00m \u001b[39mfrom_pretrained\u001b[39m(\u001b[39mcls\u001b[39m, \u001b[39m*\u001b[39minputs, \u001b[39m*\u001b[39m\u001b[39m*\u001b[39mkwargs):\n\u001b[0;32m    238\u001b[0m \u001b[39m    \u001b[39m\u001b[39mr\u001b[39m\u001b[39m\"\"\"\u001b[39;00m\n\u001b[0;32m    239\u001b[0m \u001b[39m    Instantiate a :class:`~transformers.PreTrainedTokenizer` (or a derived class) from a predefined tokenizer.\u001b[39;00m\n\u001b[0;32m    240\u001b[0m \n\u001b[1;32m   (...)\u001b[0m\n\u001b[0;32m    280\u001b[0m \n\u001b[0;32m    281\u001b[0m \u001b[39m    \"\"\"\u001b[39;00m\n\u001b[1;32m--> 282\u001b[0m     \u001b[39mreturn\u001b[39;00m \u001b[39mcls\u001b[39;49m\u001b[39m.\u001b[39;49m_from_pretrained(\u001b[39m*\u001b[39;49minputs, \u001b[39m*\u001b[39;49m\u001b[39m*\u001b[39;49mkwargs)\n",
            "File \u001b[1;32mc:\\Users\\sern7\\anaconda3\\envs\\spark_torch\\Lib\\site-packages\\transformers\\tokenization_utils.py:340\u001b[0m, in \u001b[0;36mPreTrainedTokenizer._from_pretrained\u001b[1;34m(cls, pretrained_model_name_or_path, *init_inputs, **kwargs)\u001b[0m\n\u001b[0;32m    337\u001b[0m         vocab_files[file_id] \u001b[39m=\u001b[39m full_file_name\n\u001b[0;32m    339\u001b[0m     \u001b[39mif\u001b[39;00m \u001b[39mall\u001b[39m(full_file_name \u001b[39mis\u001b[39;00m \u001b[39mNone\u001b[39;00m \u001b[39mfor\u001b[39;00m full_file_name \u001b[39min\u001b[39;00m vocab_files\u001b[39m.\u001b[39mvalues()):\n\u001b[1;32m--> 340\u001b[0m         \u001b[39mraise\u001b[39;00m \u001b[39mEnvironmentError\u001b[39;00m(\n\u001b[0;32m    341\u001b[0m             \u001b[39m\"\u001b[39m\u001b[39mModel name \u001b[39m\u001b[39m'\u001b[39m\u001b[39m{}\u001b[39;00m\u001b[39m'\u001b[39m\u001b[39m was not found in tokenizers model name list (\u001b[39m\u001b[39m{}\u001b[39;00m\u001b[39m). \u001b[39m\u001b[39m\"\u001b[39m\n\u001b[0;32m    342\u001b[0m             \u001b[39m\"\u001b[39m\u001b[39mWe assumed \u001b[39m\u001b[39m'\u001b[39m\u001b[39m{}\u001b[39;00m\u001b[39m'\u001b[39m\u001b[39m was a path or url to a directory containing vocabulary files \u001b[39m\u001b[39m\"\u001b[39m\n\u001b[0;32m    343\u001b[0m             \u001b[39m\"\u001b[39m\u001b[39mnamed \u001b[39m\u001b[39m{}\u001b[39;00m\u001b[39m but couldn\u001b[39m\u001b[39m'\u001b[39m\u001b[39mt find such vocabulary files at this path or url.\u001b[39m\u001b[39m\"\u001b[39m\u001b[39m.\u001b[39mformat(\n\u001b[0;32m    344\u001b[0m                 pretrained_model_name_or_path, \u001b[39m'\u001b[39m\u001b[39m, \u001b[39m\u001b[39m'\u001b[39m\u001b[39m.\u001b[39mjoin(s3_models),\n\u001b[0;32m    345\u001b[0m                 pretrained_model_name_or_path, \n\u001b[0;32m    346\u001b[0m                 \u001b[39mlist\u001b[39m(\u001b[39mcls\u001b[39m\u001b[39m.\u001b[39mvocab_files_names\u001b[39m.\u001b[39mvalues())))\n\u001b[0;32m    348\u001b[0m \u001b[39m# Get files from url, cache, or disk depending on the case\u001b[39;00m\n\u001b[0;32m    349\u001b[0m \u001b[39mtry\u001b[39;00m:\n",
            "\u001b[1;31mOSError\u001b[0m: Model name 'airesearch/wangchanberta-base-att-spm-uncased' was not found in tokenizers model name list (bert-base-uncased, bert-large-uncased, bert-base-cased, bert-large-cased, bert-base-multilingual-uncased, bert-base-multilingual-cased, bert-base-chinese, bert-base-german-cased, bert-large-uncased-whole-word-masking, bert-large-cased-whole-word-masking, bert-large-uncased-whole-word-masking-finetuned-squad, bert-large-cased-whole-word-masking-finetuned-squad, bert-base-cased-finetuned-mrpc, bert-base-german-dbmdz-cased, bert-base-german-dbmdz-uncased). We assumed 'airesearch/wangchanberta-base-att-spm-uncased' was a path or url to a directory containing vocabulary files named ['vocab.txt'] but couldn't find such vocabulary files at this path or url."
          ]
        }
      ],
      "source": [
        "tokenizer = AutoTokenizer.from_pretrained(\"airesearch/wangchanberta-base-att-spm-uncased\")\n",
        "# class Dataset(torch.utils.data.Dataset):\n",
        "\n",
        "#     def __init__(self, df):\n",
        "\n",
        "#         self.labels = df['labels'].values\n",
        "       \n",
        "#         self.texts = [tokenizer(text, \n",
        "#                                padding='max_length', max_length = 256, truncation=True,\n",
        "#                                 return_tensors=\"pt\") for text in df['comment']]\n",
        "\n",
        "#     def __len__(self):\n",
        "#         return len(self.labels)\n",
        "\n",
        "#     def get_batch_labels(self, idx):\n",
        "#         # Fetch a batch of labels\n",
        "        \n",
        "#         return self.labels[idx]\n",
        "        \n",
        "\n",
        "#     def get_batch_texts(self, idx):\n",
        "#         # Fetch a batch of inputs\n",
        "#         return self.texts[idx]\n",
        "\n",
        "#     def __getitem__(self, idx):\n",
        "\n",
        "#         batch_texts = self.get_batch_texts(idx)\n",
        "#         batch_y = self.get_batch_labels(idx)\n",
        "        \n",
        "\n",
        "#         return batch_texts, batch_y"
      ]
    }
  ],
  "metadata": {
    "colab": {
      "collapsed_sections": [
        "Ns7C5Ervm2Tr"
      ],
      "provenance": []
    },
    "gpuClass": "standard",
    "kernelspec": {
      "display_name": "Python 3",
      "name": "python3"
    },
    "language_info": {
      "codemirror_mode": {
        "name": "ipython",
        "version": 3
      },
      "file_extension": ".py",
      "mimetype": "text/x-python",
      "name": "python",
      "nbconvert_exporter": "python",
      "pygments_lexer": "ipython3",
      "version": "3.11.3"
    }
  },
  "nbformat": 4,
  "nbformat_minor": 0
}
