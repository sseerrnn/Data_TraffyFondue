{
 "cells": [
  {
   "cell_type": "code",
   "execution_count": 21,
   "metadata": {},
   "outputs": [],
   "source": [
    "import pandas as pd\n",
    "import numpy as np\n",
    "from tqdm.auto import tqdm\n",
    "import torch\n",
    "import torch.nn as nn\n",
    "from torch.utils.data import Dataset, DataLoader\n",
    "from transformers import (\n",
    "    CamembertTokenizerFast,\n",
    "    AutoTokenizer,\n",
    "    AutoModel,\n",
    "    AutoModelForMaskedLM,\n",
    "    AutoModelForSequenceClassification,\n",
    "    AutoModelForTokenClassification,\n",
    "    TrainingArguments,\n",
    "    Trainer,\n",
    "    pipeline,\n",
    ")\n",
    "from sklearn.model_selection import train_test_split\n",
    "from sklearn.metrics import classification_report, multilabel_confusion_matrix\n",
    "import seaborn as sns\n",
    "from pylab import rcParams\n",
    "import matplotlib.pyplot as plt\n",
    "from matplotlib import rc\n",
    "import torch\n",
    "import torch.nn as nn\n",
    "import torch.nn.functional as F\n",
    "import torch.optim as optim\n",
    "import mlflow.pytorch\n",
    "import mlflow"
   ]
  },
  {
   "cell_type": "code",
   "execution_count": 22,
   "metadata": {},
   "outputs": [],
   "source": [
    "BERT_MODEL_NAME = \"airesearch/wangchanberta-base-att-spm-uncased\""
   ]
  },
  {
   "cell_type": "code",
   "execution_count": 23,
   "metadata": {},
   "outputs": [
    {
     "data": {
      "text/html": [
       "<div>\n",
       "<style scoped>\n",
       "    .dataframe tbody tr th:only-of-type {\n",
       "        vertical-align: middle;\n",
       "    }\n",
       "\n",
       "    .dataframe tbody tr th {\n",
       "        vertical-align: top;\n",
       "    }\n",
       "\n",
       "    .dataframe thead th {\n",
       "        text-align: right;\n",
       "    }\n",
       "</style>\n",
       "<table border=\"1\" class=\"dataframe\">\n",
       "  <thead>\n",
       "    <tr style=\"text-align: right;\">\n",
       "      <th></th>\n",
       "      <th>Unnamed: 0</th>\n",
       "      <th>ticket_id</th>\n",
       "      <th>type</th>\n",
       "      <th>comment</th>\n",
       "      <th>ถนน</th>\n",
       "      <th>ทางเท้า</th>\n",
       "      <th>แสงสว่าง</th>\n",
       "      <th>ความปลอดภัย</th>\n",
       "      <th>น้ำท่วม</th>\n",
       "      <th>ความสะอาด</th>\n",
       "      <th>...</th>\n",
       "      <th>ป้าย</th>\n",
       "      <th>สัตว์จรจัด</th>\n",
       "      <th>PM25</th>\n",
       "      <th>สอบถาม</th>\n",
       "      <th>เสนอแนะ</th>\n",
       "      <th>คนจรจัด</th>\n",
       "      <th>การเดินทาง</th>\n",
       "      <th>ห้องน้ำ</th>\n",
       "      <th>ป้ายจราจร</th>\n",
       "      <th>labels</th>\n",
       "    </tr>\n",
       "  </thead>\n",
       "  <tbody>\n",
       "    <tr>\n",
       "      <th>0</th>\n",
       "      <td>0</td>\n",
       "      <td>2021-BEJ9PP</td>\n",
       "      <td>['ถนน']</td>\n",
       "      <td>สะพานลอยกีดขวางทางเท้า ถนนเล็ก ควรทำเป็นทางข้า...</td>\n",
       "      <td>1</td>\n",
       "      <td>0</td>\n",
       "      <td>0</td>\n",
       "      <td>0</td>\n",
       "      <td>0</td>\n",
       "      <td>0</td>\n",
       "      <td>...</td>\n",
       "      <td>0</td>\n",
       "      <td>0</td>\n",
       "      <td>0</td>\n",
       "      <td>0</td>\n",
       "      <td>0</td>\n",
       "      <td>0</td>\n",
       "      <td>0</td>\n",
       "      <td>0</td>\n",
       "      <td>0</td>\n",
       "      <td>[1, 0, 0, 0, 0, 0, 0, 0, 0, 0, 0, 0, 0, 0, 0, ...</td>\n",
       "    </tr>\n",
       "    <tr>\n",
       "      <th>1</th>\n",
       "      <td>1</td>\n",
       "      <td>2021-DDF9VX</td>\n",
       "      <td>['คลอง', 'ความปลอดภัย', 'ทางเท้า']</td>\n",
       "      <td>ฟุตบาทยุบ และแคบมาก อันตรายที่จะพลัดตกลงคลองที...</td>\n",
       "      <td>0</td>\n",
       "      <td>1</td>\n",
       "      <td>0</td>\n",
       "      <td>1</td>\n",
       "      <td>0</td>\n",
       "      <td>0</td>\n",
       "      <td>...</td>\n",
       "      <td>0</td>\n",
       "      <td>0</td>\n",
       "      <td>0</td>\n",
       "      <td>0</td>\n",
       "      <td>0</td>\n",
       "      <td>0</td>\n",
       "      <td>0</td>\n",
       "      <td>0</td>\n",
       "      <td>0</td>\n",
       "      <td>[0, 1, 0, 1, 0, 0, 0, 0, 0, 0, 0, 1, 0, 0, 0, ...</td>\n",
       "    </tr>\n",
       "    <tr>\n",
       "      <th>2</th>\n",
       "      <td>2</td>\n",
       "      <td>2022-8TN97P</td>\n",
       "      <td>['จราจร']</td>\n",
       "      <td>เสาไฟจราจรเอียงจะล้ม</td>\n",
       "      <td>0</td>\n",
       "      <td>0</td>\n",
       "      <td>0</td>\n",
       "      <td>0</td>\n",
       "      <td>0</td>\n",
       "      <td>0</td>\n",
       "      <td>...</td>\n",
       "      <td>0</td>\n",
       "      <td>0</td>\n",
       "      <td>0</td>\n",
       "      <td>0</td>\n",
       "      <td>0</td>\n",
       "      <td>0</td>\n",
       "      <td>0</td>\n",
       "      <td>0</td>\n",
       "      <td>0</td>\n",
       "      <td>[0, 0, 0, 0, 0, 0, 0, 0, 0, 1, 0, 0, 0, 0, 0, ...</td>\n",
       "    </tr>\n",
       "    <tr>\n",
       "      <th>3</th>\n",
       "      <td>3</td>\n",
       "      <td>2022-GPUWCP</td>\n",
       "      <td>['สายไฟ', 'ต้นไม้']</td>\n",
       "      <td>ต้นไม้สู้ชนสายไฟ</td>\n",
       "      <td>0</td>\n",
       "      <td>0</td>\n",
       "      <td>0</td>\n",
       "      <td>0</td>\n",
       "      <td>0</td>\n",
       "      <td>0</td>\n",
       "      <td>...</td>\n",
       "      <td>0</td>\n",
       "      <td>0</td>\n",
       "      <td>0</td>\n",
       "      <td>0</td>\n",
       "      <td>0</td>\n",
       "      <td>0</td>\n",
       "      <td>0</td>\n",
       "      <td>0</td>\n",
       "      <td>0</td>\n",
       "      <td>[0, 0, 0, 0, 0, 0, 0, 0, 0, 0, 1, 0, 0, 1, 0, ...</td>\n",
       "    </tr>\n",
       "    <tr>\n",
       "      <th>4</th>\n",
       "      <td>4</td>\n",
       "      <td>2022-KNYYC3</td>\n",
       "      <td>['คลอง', 'ความสะอาด']</td>\n",
       "      <td>การทิ้งขยะลงในลำคลอง</td>\n",
       "      <td>0</td>\n",
       "      <td>0</td>\n",
       "      <td>0</td>\n",
       "      <td>0</td>\n",
       "      <td>0</td>\n",
       "      <td>1</td>\n",
       "      <td>...</td>\n",
       "      <td>0</td>\n",
       "      <td>0</td>\n",
       "      <td>0</td>\n",
       "      <td>0</td>\n",
       "      <td>0</td>\n",
       "      <td>0</td>\n",
       "      <td>0</td>\n",
       "      <td>0</td>\n",
       "      <td>0</td>\n",
       "      <td>[0, 0, 0, 0, 0, 1, 0, 0, 0, 0, 0, 1, 0, 0, 0, ...</td>\n",
       "    </tr>\n",
       "    <tr>\n",
       "      <th>...</th>\n",
       "      <td>...</td>\n",
       "      <td>...</td>\n",
       "      <td>...</td>\n",
       "      <td>...</td>\n",
       "      <td>...</td>\n",
       "      <td>...</td>\n",
       "      <td>...</td>\n",
       "      <td>...</td>\n",
       "      <td>...</td>\n",
       "      <td>...</td>\n",
       "      <td>...</td>\n",
       "      <td>...</td>\n",
       "      <td>...</td>\n",
       "      <td>...</td>\n",
       "      <td>...</td>\n",
       "      <td>...</td>\n",
       "      <td>...</td>\n",
       "      <td>...</td>\n",
       "      <td>...</td>\n",
       "      <td>...</td>\n",
       "      <td>...</td>\n",
       "    </tr>\n",
       "    <tr>\n",
       "      <th>207084</th>\n",
       "      <td>208671</td>\n",
       "      <td>2023-4989VN</td>\n",
       "      <td>['ถนน', 'คลอง']</td>\n",
       "      <td>📢🔊🌳🍃🎋แจ้ง มีวัชพืช เลื้อยพัน และไต่ระดับขึ้นสู...</td>\n",
       "      <td>1</td>\n",
       "      <td>0</td>\n",
       "      <td>0</td>\n",
       "      <td>0</td>\n",
       "      <td>0</td>\n",
       "      <td>0</td>\n",
       "      <td>...</td>\n",
       "      <td>0</td>\n",
       "      <td>0</td>\n",
       "      <td>0</td>\n",
       "      <td>0</td>\n",
       "      <td>0</td>\n",
       "      <td>0</td>\n",
       "      <td>0</td>\n",
       "      <td>0</td>\n",
       "      <td>0</td>\n",
       "      <td>[1, 0, 0, 0, 0, 0, 0, 0, 0, 0, 0, 1, 0, 0, 0, ...</td>\n",
       "    </tr>\n",
       "    <tr>\n",
       "      <th>207085</th>\n",
       "      <td>208672</td>\n",
       "      <td>UNWWLC</td>\n",
       "      <td>['เสียงรบกวน', 'ถนน']</td>\n",
       "      <td>‘กรุณาอ่านข้อมูลบรรยายประกอบการปักหมุด’\\n* ปัญ...</td>\n",
       "      <td>1</td>\n",
       "      <td>0</td>\n",
       "      <td>0</td>\n",
       "      <td>0</td>\n",
       "      <td>0</td>\n",
       "      <td>0</td>\n",
       "      <td>...</td>\n",
       "      <td>0</td>\n",
       "      <td>0</td>\n",
       "      <td>0</td>\n",
       "      <td>0</td>\n",
       "      <td>0</td>\n",
       "      <td>0</td>\n",
       "      <td>0</td>\n",
       "      <td>0</td>\n",
       "      <td>0</td>\n",
       "      <td>[1, 0, 0, 0, 0, 0, 0, 0, 0, 0, 0, 0, 1, 0, 0, ...</td>\n",
       "    </tr>\n",
       "    <tr>\n",
       "      <th>207086</th>\n",
       "      <td>208673</td>\n",
       "      <td>PT24KT</td>\n",
       "      <td>['สัตว์จรจัด']</td>\n",
       "      <td>ปัญหา : ช่วยจัดการกับนกพิราบ จำนวนมาก\\nจุดสังเ...</td>\n",
       "      <td>0</td>\n",
       "      <td>0</td>\n",
       "      <td>0</td>\n",
       "      <td>0</td>\n",
       "      <td>0</td>\n",
       "      <td>0</td>\n",
       "      <td>...</td>\n",
       "      <td>0</td>\n",
       "      <td>1</td>\n",
       "      <td>0</td>\n",
       "      <td>0</td>\n",
       "      <td>0</td>\n",
       "      <td>0</td>\n",
       "      <td>0</td>\n",
       "      <td>0</td>\n",
       "      <td>0</td>\n",
       "      <td>[0, 0, 0, 0, 0, 0, 0, 0, 0, 0, 0, 0, 0, 0, 0, ...</td>\n",
       "    </tr>\n",
       "    <tr>\n",
       "      <th>207087</th>\n",
       "      <td>208674</td>\n",
       "      <td>2023-GL4KWC</td>\n",
       "      <td>['ทางเท้า']</td>\n",
       "      <td>ทางเท้าแบบนี้สภาพไม่ดีเลย กรุณาปรับปรุงโดยด่วน</td>\n",
       "      <td>0</td>\n",
       "      <td>1</td>\n",
       "      <td>0</td>\n",
       "      <td>0</td>\n",
       "      <td>0</td>\n",
       "      <td>0</td>\n",
       "      <td>...</td>\n",
       "      <td>0</td>\n",
       "      <td>0</td>\n",
       "      <td>0</td>\n",
       "      <td>0</td>\n",
       "      <td>0</td>\n",
       "      <td>0</td>\n",
       "      <td>0</td>\n",
       "      <td>0</td>\n",
       "      <td>0</td>\n",
       "      <td>[0, 1, 0, 0, 0, 0, 0, 0, 0, 0, 0, 0, 0, 0, 0, ...</td>\n",
       "    </tr>\n",
       "    <tr>\n",
       "      <th>207088</th>\n",
       "      <td>208675</td>\n",
       "      <td>2023-3VZH9L</td>\n",
       "      <td>['ถนน', 'ต้นไม้', 'จราจร']</td>\n",
       "      <td>ต้นไม้บังสัญญาณไฟจราจร ถนนวรจักร แยกวรจักร มุ่...</td>\n",
       "      <td>1</td>\n",
       "      <td>0</td>\n",
       "      <td>0</td>\n",
       "      <td>0</td>\n",
       "      <td>0</td>\n",
       "      <td>0</td>\n",
       "      <td>...</td>\n",
       "      <td>0</td>\n",
       "      <td>0</td>\n",
       "      <td>0</td>\n",
       "      <td>0</td>\n",
       "      <td>0</td>\n",
       "      <td>0</td>\n",
       "      <td>0</td>\n",
       "      <td>0</td>\n",
       "      <td>0</td>\n",
       "      <td>[1, 0, 0, 0, 0, 0, 0, 0, 0, 1, 0, 0, 0, 1, 0, ...</td>\n",
       "    </tr>\n",
       "  </tbody>\n",
       "</table>\n",
       "<p>207089 rows × 29 columns</p>\n",
       "</div>"
      ],
      "text/plain": [
       "        Unnamed: 0    ticket_id                                type  \\\n",
       "0                0  2021-BEJ9PP                             ['ถนน']   \n",
       "1                1  2021-DDF9VX  ['คลอง', 'ความปลอดภัย', 'ทางเท้า']   \n",
       "2                2  2022-8TN97P                           ['จราจร']   \n",
       "3                3  2022-GPUWCP                 ['สายไฟ', 'ต้นไม้']   \n",
       "4                4  2022-KNYYC3               ['คลอง', 'ความสะอาด']   \n",
       "...            ...          ...                                 ...   \n",
       "207084      208671  2023-4989VN                     ['ถนน', 'คลอง']   \n",
       "207085      208672       UNWWLC               ['เสียงรบกวน', 'ถนน']   \n",
       "207086      208673       PT24KT                      ['สัตว์จรจัด']   \n",
       "207087      208674  2023-GL4KWC                         ['ทางเท้า']   \n",
       "207088      208675  2023-3VZH9L          ['ถนน', 'ต้นไม้', 'จราจร']   \n",
       "\n",
       "                                                  comment  ถนน  ทางเท้า  \\\n",
       "0       สะพานลอยกีดขวางทางเท้า ถนนเล็ก ควรทำเป็นทางข้า...    1        0   \n",
       "1       ฟุตบาทยุบ และแคบมาก อันตรายที่จะพลัดตกลงคลองที...    0        1   \n",
       "2                                    เสาไฟจราจรเอียงจะล้ม    0        0   \n",
       "3                                        ต้นไม้สู้ชนสายไฟ    0        0   \n",
       "4                                    การทิ้งขยะลงในลำคลอง    0        0   \n",
       "...                                                   ...  ...      ...   \n",
       "207084  📢🔊🌳🍃🎋แจ้ง มีวัชพืช เลื้อยพัน และไต่ระดับขึ้นสู...    1        0   \n",
       "207085  ‘กรุณาอ่านข้อมูลบรรยายประกอบการปักหมุด’\\n* ปัญ...    1        0   \n",
       "207086  ปัญหา : ช่วยจัดการกับนกพิราบ จำนวนมาก\\nจุดสังเ...    0        0   \n",
       "207087     ทางเท้าแบบนี้สภาพไม่ดีเลย กรุณาปรับปรุงโดยด่วน    0        1   \n",
       "207088  ต้นไม้บังสัญญาณไฟจราจร ถนนวรจักร แยกวรจักร มุ่...    1        0   \n",
       "\n",
       "        แสงสว่าง  ความปลอดภัย  น้ำท่วม  ความสะอาด  ...  ป้าย  สัตว์จรจัด  \\\n",
       "0              0            0        0          0  ...     0           0   \n",
       "1              0            1        0          0  ...     0           0   \n",
       "2              0            0        0          0  ...     0           0   \n",
       "3              0            0        0          0  ...     0           0   \n",
       "4              0            0        0          1  ...     0           0   \n",
       "...          ...          ...      ...        ...  ...   ...         ...   \n",
       "207084         0            0        0          0  ...     0           0   \n",
       "207085         0            0        0          0  ...     0           0   \n",
       "207086         0            0        0          0  ...     0           1   \n",
       "207087         0            0        0          0  ...     0           0   \n",
       "207088         0            0        0          0  ...     0           0   \n",
       "\n",
       "        PM25  สอบถาม  เสนอแนะ  คนจรจัด  การเดินทาง  ห้องน้ำ  ป้ายจราจร  \\\n",
       "0          0       0        0        0           0        0          0   \n",
       "1          0       0        0        0           0        0          0   \n",
       "2          0       0        0        0           0        0          0   \n",
       "3          0       0        0        0           0        0          0   \n",
       "4          0       0        0        0           0        0          0   \n",
       "...      ...     ...      ...      ...         ...      ...        ...   \n",
       "207084     0       0        0        0           0        0          0   \n",
       "207085     0       0        0        0           0        0          0   \n",
       "207086     0       0        0        0           0        0          0   \n",
       "207087     0       0        0        0           0        0          0   \n",
       "207088     0       0        0        0           0        0          0   \n",
       "\n",
       "                                                   labels  \n",
       "0       [1, 0, 0, 0, 0, 0, 0, 0, 0, 0, 0, 0, 0, 0, 0, ...  \n",
       "1       [0, 1, 0, 1, 0, 0, 0, 0, 0, 0, 0, 1, 0, 0, 0, ...  \n",
       "2       [0, 0, 0, 0, 0, 0, 0, 0, 0, 1, 0, 0, 0, 0, 0, ...  \n",
       "3       [0, 0, 0, 0, 0, 0, 0, 0, 0, 0, 1, 0, 0, 1, 0, ...  \n",
       "4       [0, 0, 0, 0, 0, 1, 0, 0, 0, 0, 0, 1, 0, 0, 0, ...  \n",
       "...                                                   ...  \n",
       "207084  [1, 0, 0, 0, 0, 0, 0, 0, 0, 0, 0, 1, 0, 0, 0, ...  \n",
       "207085  [1, 0, 0, 0, 0, 0, 0, 0, 0, 0, 0, 0, 1, 0, 0, ...  \n",
       "207086  [0, 0, 0, 0, 0, 0, 0, 0, 0, 0, 0, 0, 0, 0, 0, ...  \n",
       "207087  [0, 1, 0, 0, 0, 0, 0, 0, 0, 0, 0, 0, 0, 0, 0, ...  \n",
       "207088  [1, 0, 0, 0, 0, 0, 0, 0, 0, 1, 0, 0, 0, 1, 0, ...  \n",
       "\n",
       "[207089 rows x 29 columns]"
      ]
     },
     "execution_count": 23,
     "metadata": {},
     "output_type": "execute_result"
    }
   ],
   "source": [
    "import pandas as pd\n",
    "\n",
    "df = pd.read_csv('cleaned_data.csv',index_col=False)\n",
    "df"
   ]
  },
  {
   "cell_type": "code",
   "execution_count": 24,
   "metadata": {},
   "outputs": [],
   "source": [
    "df = df.drop(columns=['Unnamed: 0'])"
   ]
  },
  {
   "cell_type": "code",
   "execution_count": 25,
   "metadata": {},
   "outputs": [],
   "source": [
    "types = ['ถนน','ทางเท้า','แสงสว่าง','ความปลอดภัย','น้ำท่วม','ความสะอาด','กีดขวาง',\n",
    "        'ท่อระบายน้ำ','สะพาน','จราจร','สายไฟ','คลอง','เสียงรบกวน','ต้นไม้','ร้องเรียน',\n",
    "        'ป้าย','สัตว์จรจัด',\"PM25\",'สอบถาม','เสนอแนะ','คนจรจัด','การเดินทาง','ห้องน้ำ','ป้ายจราจร']"
   ]
  },
  {
   "cell_type": "code",
   "execution_count": 26,
   "metadata": {},
   "outputs": [],
   "source": [
    "train_df, test_df = train_test_split(df, test_size=0.2)\n",
    "test_df, val_df = train_test_split(test_df, test_size=0.5)\n"
   ]
  },
  {
   "cell_type": "code",
   "execution_count": 27,
   "metadata": {},
   "outputs": [],
   "source": [
    "# bert_model = BertModel.from_pretrained('airesearch/wangchanberta-base-att-spm-uncased', return_dict=True)\n"
   ]
  },
  {
   "cell_type": "code",
   "execution_count": 28,
   "metadata": {},
   "outputs": [],
   "source": [
    "BERT_MODEL_NAME = \"airesearch/wangchanberta-base-att-spm-uncased\""
   ]
  },
  {
   "cell_type": "code",
   "execution_count": 29,
   "metadata": {},
   "outputs": [],
   "source": [
    "tokenizer = CamembertTokenizerFast.from_pretrained(BERT_MODEL_NAME)\n",
    "class Dataset(torch.utils.data.Dataset):\n",
    "\n",
    "    def __init__(self, df):\n",
    "\n",
    "        self.labels = df[types].values\n",
    "       \n",
    "        self.texts = [tokenizer(text, \n",
    "                               padding='max_length', max_length = 256, truncation=True,\n",
    "                                return_tensors=\"pt\") for text in df['comment']]\n",
    "\n",
    "    def __len__(self):\n",
    "        return len(self.labels)\n",
    "\n",
    "    def get_batch_labels(self, idx):\n",
    "        # Fetch a batch of labels\n",
    "        \n",
    "        return torch.Tensor(self.labels[idx])\n",
    "        \n",
    "\n",
    "    def get_batch_texts(self, idx):\n",
    "        # Fetch a batch of inputs\n",
    "        return self.texts[idx]\n",
    "\n",
    "    def __getitem__(self, idx):\n",
    "\n",
    "        batch_texts = self.get_batch_texts(idx)\n",
    "        batch_y = self.get_batch_labels(idx)\n",
    "        \n",
    "\n",
    "        return batch_texts, batch_y"
   ]
  },
  {
   "cell_type": "code",
   "execution_count": null,
   "metadata": {},
   "outputs": [],
   "source": []
  },
  {
   "cell_type": "code",
   "execution_count": 30,
   "metadata": {},
   "outputs": [],
   "source": [
    "batch_size = 16"
   ]
  },
  {
   "cell_type": "code",
   "execution_count": 31,
   "metadata": {},
   "outputs": [],
   "source": [
    "train_dataset = Dataset(train_df)\n",
    "train_loader = DataLoader(train_dataset, batch_size=batch_size, shuffle=True)\n",
    "\n",
    "test_dataset = Dataset(test_df)\n",
    "test_loader = DataLoader(test_dataset, batch_size=batch_size, shuffle=False)\n",
    "\n",
    "val_dataset = Dataset(val_df)\n",
    "val_loader = DataLoader(val_dataset, batch_size=batch_size, shuffle=False)"
   ]
  },
  {
   "cell_type": "code",
   "execution_count": 32,
   "metadata": {},
   "outputs": [
    {
     "data": {
      "text/plain": [
       "tensor([[0., 0., 0., 0., 0., 0., 1., 0., 0., 1., 0., 0., 0., 0., 0., 0., 0., 0.,\n",
       "         0., 0., 0., 0., 0., 0.],\n",
       "        [0., 0., 0., 0., 0., 0., 0., 1., 0., 0., 0., 0., 0., 0., 0., 0., 0., 0.,\n",
       "         0., 0., 0., 0., 0., 0.],\n",
       "        [0., 0., 0., 0., 0., 0., 0., 1., 0., 0., 0., 0., 0., 0., 0., 0., 0., 0.,\n",
       "         0., 0., 0., 0., 0., 0.],\n",
       "        [1., 0., 0., 0., 1., 0., 0., 0., 0., 0., 0., 0., 0., 0., 0., 0., 0., 0.,\n",
       "         0., 0., 0., 0., 0., 0.],\n",
       "        [0., 0., 1., 0., 0., 0., 0., 0., 0., 0., 0., 0., 0., 0., 0., 0., 0., 0.,\n",
       "         0., 0., 0., 0., 0., 0.],\n",
       "        [0., 0., 0., 0., 0., 0., 0., 0., 0., 0., 1., 0., 0., 0., 0., 0., 0., 0.,\n",
       "         0., 0., 0., 0., 0., 0.],\n",
       "        [0., 0., 0., 0., 1., 0., 0., 0., 0., 0., 0., 0., 0., 0., 0., 0., 0., 0.,\n",
       "         0., 0., 0., 0., 0., 0.],\n",
       "        [1., 0., 1., 0., 0., 0., 0., 0., 0., 0., 0., 0., 0., 0., 0., 0., 0., 0.,\n",
       "         0., 0., 0., 0., 0., 0.],\n",
       "        [1., 0., 0., 0., 0., 0., 0., 1., 0., 0., 0., 0., 0., 0., 0., 0., 0., 0.,\n",
       "         0., 0., 0., 0., 0., 0.],\n",
       "        [1., 0., 0., 0., 0., 0., 0., 0., 0., 0., 0., 0., 0., 0., 0., 0., 0., 0.,\n",
       "         0., 0., 0., 0., 0., 0.],\n",
       "        [1., 0., 0., 0., 0., 1., 0., 0., 0., 0., 0., 0., 0., 0., 0., 0., 0., 0.,\n",
       "         0., 0., 0., 0., 0., 0.],\n",
       "        [1., 0., 0., 1., 0., 0., 0., 0., 0., 0., 0., 0., 0., 0., 0., 0., 0., 0.,\n",
       "         0., 0., 0., 0., 0., 0.],\n",
       "        [0., 0., 0., 0., 0., 0., 0., 0., 0., 0., 0., 1., 0., 0., 0., 0., 0., 0.,\n",
       "         0., 0., 0., 0., 0., 0.],\n",
       "        [0., 0., 0., 0., 1., 0., 0., 0., 0., 0., 0., 0., 0., 0., 0., 0., 0., 0.,\n",
       "         0., 0., 0., 0., 0., 0.],\n",
       "        [0., 0., 0., 0., 0., 0., 0., 0., 0., 0., 0., 1., 0., 0., 0., 0., 0., 0.,\n",
       "         0., 0., 0., 0., 0., 0.],\n",
       "        [0., 0., 0., 0., 1., 0., 0., 0., 0., 0., 0., 0., 0., 0., 0., 0., 0., 0.,\n",
       "         0., 0., 0., 0., 0., 0.]])"
      ]
     },
     "execution_count": 32,
     "metadata": {},
     "output_type": "execute_result"
    }
   ],
   "source": [
    "next(iter(train_loader))[1]"
   ]
  },
  {
   "cell_type": "code",
   "execution_count": 33,
   "metadata": {},
   "outputs": [
    {
     "data": {
      "text/plain": [
       "device(type='cuda')"
      ]
     },
     "execution_count": 33,
     "metadata": {},
     "output_type": "execute_result"
    }
   ],
   "source": [
    "device = torch.device('cuda' if torch.cuda.is_available() else 'cpu')\n",
    "device"
   ]
  },
  {
   "cell_type": "code",
   "execution_count": 34,
   "metadata": {},
   "outputs": [
    {
     "name": "stderr",
     "output_type": "stream",
     "text": [
      "Some weights of the model checkpoint at airesearch/wangchanberta-base-att-spm-uncased were not used when initializing CamembertForSequenceClassification: ['lm_head.dense.bias', 'lm_head.layer_norm.weight', 'roberta.pooler.dense.bias', 'lm_head.bias', 'lm_head.dense.weight', 'lm_head.decoder.weight', 'lm_head.layer_norm.bias', 'lm_head.decoder.bias', 'roberta.pooler.dense.weight']\n",
      "- This IS expected if you are initializing CamembertForSequenceClassification from the checkpoint of a model trained on another task or with another architecture (e.g. initializing a BertForSequenceClassification model from a BertForPreTraining model).\n",
      "- This IS NOT expected if you are initializing CamembertForSequenceClassification from the checkpoint of a model that you expect to be exactly identical (initializing a BertForSequenceClassification model from a BertForSequenceClassification model).\n",
      "Some weights of CamembertForSequenceClassification were not initialized from the model checkpoint at airesearch/wangchanberta-base-att-spm-uncased and are newly initialized: ['classifier.out_proj.bias', 'classifier.dense.bias', 'classifier.dense.weight', 'classifier.out_proj.weight']\n",
      "You should probably TRAIN this model on a down-stream task to be able to use it for predictions and inference.\n"
     ]
    }
   ],
   "source": [
    "\n",
    "model = AutoModelForSequenceClassification.from_pretrained(BERT_MODEL_NAME ,num_labels=len(types), return_dict=True,ignore_mismatched_sizes=True) \n",
    "model.to(device)\n",
    "optimizer = optim.Adam(model.parameters(), lr=2e-5) \n",
    "criterion = nn.BCELoss()\n",
    "# scheduler = optim.lr_scheduler.LinearLR(optimizer)\n",
    "\n",
    "\n"
   ]
  },
  {
   "cell_type": "code",
   "execution_count": 35,
   "metadata": {},
   "outputs": [
    {
     "name": "stderr",
     "output_type": "stream",
     "text": [
      "2023/05/15 23:21:42 INFO mlflow.tracking.fluent: Experiment with name 'test-experiment' does not exist. Creating a new experiment.\n"
     ]
    }
   ],
   "source": [
    "# mlflow.set_tracking_uri('http://127.0.0.1:5000')  # set up connection\n",
    "# mlflow.set_experiment('test-experiment')\n",
    "# with mlflow.start_run() as run:\n",
    "#     mlflow.pytorch.log_model(model, \"model\")\n",
    "# model_uri = \"runs:/{}/model\".format(run.info.run_id)\n",
    "# model = mlflow.pytorch.load_model(model_uri)"
   ]
  },
  {
   "cell_type": "code",
   "execution_count": 36,
   "metadata": {},
   "outputs": [],
   "source": [
    "# with mlflow.start_run() as run:\n",
    "#     mlflow.pytorch.log_model(model, \"model\")"
   ]
  },
  {
   "cell_type": "code",
   "execution_count": 37,
   "metadata": {},
   "outputs": [],
   "source": [
    "# x = next(iter(train_loader))[0]"
   ]
  },
  {
   "cell_type": "code",
   "execution_count": 38,
   "metadata": {},
   "outputs": [],
   "source": [
    "# input = x['input_ids'].squeeze(1).to(device)"
   ]
  },
  {
   "cell_type": "code",
   "execution_count": 39,
   "metadata": {},
   "outputs": [],
   "source": [
    "# model(input).logits.shape"
   ]
  },
  {
   "cell_type": "code",
   "execution_count": 40,
   "metadata": {},
   "outputs": [
    {
     "name": "stdout",
     "output_type": "stream",
     "text": [
      "Epoch: 1/1\n"
     ]
    },
    {
     "name": "stderr",
     "output_type": "stream",
     "text": [
      "100%|██████████| 10355/10355 [1:20:14<00:00,  2.15it/s]\n",
      "100%|██████████| 1295/1295 [03:17<00:00,  6.57it/s]"
     ]
    },
    {
     "name": "stdout",
     "output_type": "stream",
     "text": [
      "Validation Loss: 0.0262\n",
      "Training Loss: 0.0399\n"
     ]
    },
    {
     "name": "stderr",
     "output_type": "stream",
     "text": [
      "\n"
     ]
    }
   ],
   "source": [
    "#train\n",
    "EPOCHS = 1\n",
    "train_losses = []\n",
    "val_losses = []\n",
    "train_acc = []\n",
    "val_acc = []\n",
    "for epoch in range(EPOCHS):\n",
    "    print('Epoch: {}/{}'.format(epoch+1, EPOCHS))\n",
    "    model.train()\n",
    "    buffer_loss = []\n",
    "    for data in tqdm(train_loader):\n",
    "        inputs, labels = data\n",
    "        inputs = inputs['input_ids'].squeeze(1).to(device)\n",
    "        labels = labels.to(device)\n",
    "        \n",
    "        optimizer.zero_grad()\n",
    "        outputs = model(inputs).logits\n",
    "        outputs = F.sigmoid(outputs)\n",
    "        # print(outputs)\n",
    "        loss = criterion(outputs, labels)\n",
    "        loss.backward()\n",
    "        optimizer.step()\n",
    "        buffer_loss.append(loss.item())\n",
    "    train_losses.append(np.mean(buffer_loss))\n",
    "    \n",
    "    model.eval()\n",
    "    with torch.no_grad():\n",
    "        buffer_val_loss = []\n",
    "        for data in tqdm(val_loader):\n",
    "            inputs, labels = data\n",
    "            inputs = inputs['input_ids'].squeeze(1).to(device)\n",
    "            labels = labels.to(device)\n",
    "            outputs = model(inputs).logits\n",
    "            outputs = F.sigmoid(outputs)\n",
    "            loss = criterion(outputs, labels)\n",
    "            buffer_val_loss.append(loss.item())\n",
    "        val_losses.append(np.mean(buffer_val_loss))\n",
    "    \n",
    "    # scheduler.step()\n",
    "            \n",
    "            \n",
    "            \n",
    "        \n",
    "    print('Validation Loss: {:.4f}'.format(np.mean(val_losses)))\n",
    "    print('Training Loss: {:.4f}'.format(np.mean(train_losses)))\n",
    "\n",
    "\n",
    "        \n",
    "\n",
    "    \n",
    "        "
   ]
  },
  {
   "cell_type": "code",
   "execution_count": null,
   "metadata": {},
   "outputs": [],
   "source": []
  },
  {
   "cell_type": "code",
   "execution_count": 41,
   "metadata": {},
   "outputs": [],
   "source": [
    "torch.save(model,'multilabel.pth')"
   ]
  },
  {
   "cell_type": "code",
   "execution_count": null,
   "metadata": {},
   "outputs": [],
   "source": [
    "# mlflow.set_tracking_uri('http://127.0.0.1:5000')  # set up connection\n",
    "# mlflow.set_experiment('test-experiment')\n",
    "# with mlflow.start_run() as run:\n",
    "#     mlflow.pytorch.log_model(model, \"model\")"
   ]
  },
  {
   "cell_type": "code",
   "execution_count": 42,
   "metadata": {},
   "outputs": [],
   "source": [
    "model = torch.load('multilabel.pth')\n",
    "model.to(device)"
   ]
  },
  {
   "cell_type": "code",
   "execution_count": 43,
   "metadata": {},
   "outputs": [
    {
     "data": {
      "image/png": "[encoded data removed]",
      "text/plain": [
       "<Figure size 640x480 with 1 Axes>"
      ]
     },
     "metadata": {},
     "output_type": "display_data"
    }
   ],
   "source": [
    "plt.plot(train_losses, label='Training loss')\n",
    "plt.plot(val_losses, label='Validation loss')\n",
    "\n",
    "plt.show()\n"
   ]
  },
  {
   "cell_type": "code",
   "execution_count": 44,
   "metadata": {},
   "outputs": [
    {
     "name": "stderr",
     "output_type": "stream",
     "text": [
      "100%|██████████| 1295/1295 [03:19<00:00,  6.51it/s]\n",
      "c:\\Users\\sern7\\anaconda3\\envs\\pytorch\\Lib\\site-packages\\sklearn\\metrics\\_classification.py:1344: UndefinedMetricWarning: Precision and F-score are ill-defined and being set to 0.0 in labels with no predicted samples. Use `zero_division` parameter to control this behavior.\n",
      "  _warn_prf(average, modifier, msg_start, len(result))\n",
      "c:\\Users\\sern7\\anaconda3\\envs\\pytorch\\Lib\\site-packages\\sklearn\\metrics\\_classification.py:1344: UndefinedMetricWarning: Precision and F-score are ill-defined and being set to 0.0 in samples with no predicted labels. Use `zero_division` parameter to control this behavior.\n",
      "  _warn_prf(average, modifier, msg_start, len(result))\n"
     ]
    },
    {
     "name": "stdout",
     "output_type": "stream",
     "text": [
      "              precision    recall  f1-score   support\n",
      "\n",
      "           0       0.94      0.98      0.96      7698\n",
      "           1       0.94      0.93      0.94      3126\n",
      "           2       0.97      0.95      0.96      2185\n",
      "           3       0.79      0.95      0.86      2058\n",
      "           4       0.96      0.98      0.97      1960\n",
      "           5       0.96      0.95      0.95      2005\n",
      "           6       0.89      0.88      0.89      1523\n",
      "           7       0.97      0.96      0.97      1424\n",
      "           8       1.00      0.96      0.98      1277\n",
      "           9       0.85      0.91      0.88      1197\n",
      "          10       0.98      0.93      0.95       970\n",
      "          11       0.96      0.96      0.96       875\n",
      "          12       0.98      0.90      0.94       892\n",
      "          13       0.97      0.98      0.97       809\n",
      "          14       0.66      0.63      0.64       727\n",
      "          15       0.81      0.73      0.77       616\n",
      "          16       0.89      0.96      0.92       425\n",
      "          17       0.70      0.67      0.69       111\n",
      "          18       0.69      0.64      0.67       112\n",
      "          19       0.91      0.82      0.86       116\n",
      "          20       0.64      0.93      0.76        89\n",
      "          21       0.00      0.00      0.00        53\n",
      "          22       0.89      0.42      0.57        19\n",
      "          23       0.50      0.12      0.19        26\n",
      "\n",
      "   micro avg       0.92      0.93      0.93     30293\n",
      "   macro avg       0.83      0.80      0.80     30293\n",
      "weighted avg       0.92      0.93      0.93     30293\n",
      " samples avg       0.93      0.95      0.93     30293\n",
      "\n"
     ]
    }
   ],
   "source": [
    "#test \n",
    "y_pred=[]\n",
    "y_label=[]\n",
    "model.eval()\n",
    "with torch.no_grad():\n",
    "    buffer_val_loss = []\n",
    "    for data in tqdm(test_loader):\n",
    "        inputs, labels = data\n",
    "        inputs = inputs['input_ids'].squeeze(1).to(device)\n",
    "        labels = labels.numpy().tolist()\n",
    "        outputs = model(inputs).logits\n",
    "        outputs = F.sigmoid(outputs)\n",
    "        outputs = outputs.detach().cpu().numpy()\n",
    "        for row in outputs:\n",
    "            y_pred.append([1 if i>=0.5 else 0 for i in row])\n",
    "        for row in labels:\n",
    "            y_label.append([int(i) for i in row])\n",
    "        \n",
    "print(classification_report(y_true=y_label,y_pred=y_pred))\n",
    "        "
   ]
  },
  {
   "cell_type": "code",
   "execution_count": null,
   "metadata": {},
   "outputs": [],
   "source": []
  },
  {
   "attachments": {},
   "cell_type": "markdown",
   "metadata": {},
   "source": [
    "# Predict"
   ]
  },
  {
   "cell_type": "code",
   "execution_count": 45,
   "metadata": {},
   "outputs": [],
   "source": [
    "nan_df = pd.read_csv('nan_bucket_df.csv')"
   ]
  },
  {
   "cell_type": "code",
   "execution_count": 46,
   "metadata": {},
   "outputs": [],
   "source": [
    "nan_df = nan_df.drop(columns=['Unnamed: 0'])"
   ]
  },
  {
   "cell_type": "code",
   "execution_count": 47,
   "metadata": {},
   "outputs": [],
   "source": [
    "nan_df = nan_df[nan_df['comment'].isna()==0]"
   ]
  },
  {
   "cell_type": "code",
   "execution_count": 48,
   "metadata": {},
   "outputs": [
    {
     "data": {
      "text/plain": [
       "ticket_id     0\n",
       "type         97\n",
       "comment       0\n",
       "dtype: int64"
      ]
     },
     "execution_count": 48,
     "metadata": {},
     "output_type": "execute_result"
    }
   ],
   "source": [
    "nan_df.isna().sum()"
   ]
  },
  {
   "cell_type": "code",
   "execution_count": 49,
   "metadata": {},
   "outputs": [],
   "source": [
    "nan_df = nan_df.reset_index(drop=True)"
   ]
  },
  {
   "cell_type": "code",
   "execution_count": 50,
   "metadata": {},
   "outputs": [],
   "source": [
    "tokenizer = AutoTokenizer.from_pretrained(BERT_MODEL_NAME)\n",
    "class DatasetForPredict(torch.utils.data.Dataset):\n",
    "\n",
    "    def __init__(self, data):\n",
    "        \n",
    "        self.ticket_id = data['ticket_id'].values\n",
    "       \n",
    "        self.texts = [tokenizer(text, \n",
    "                               padding='max_length', max_length = 256, truncation=True,\n",
    "                                return_tensors=\"pt\") for text in data['comment']]\n",
    "\n",
    "    def __len__(self):\n",
    "        return len(self.ticket_id)\n",
    "\n",
    "    def get_batch_id(self, idx):\n",
    "        # Fetch a batch of labels\n",
    "        \n",
    "        return self.ticket_id[idx]\n",
    "        \n",
    "\n",
    "    def get_batch_texts(self, idx):\n",
    "        # Fetch a batch of inputs\n",
    "        return self.texts[idx]\n",
    "\n",
    "    def __getitem__(self, idx):\n",
    "\n",
    "        batch_texts = self.get_batch_texts(idx)\n",
    "        batch_id = self.get_batch_id(idx)\n",
    "        \n",
    "\n",
    "        return batch_texts, batch_id"
   ]
  },
  {
   "cell_type": "code",
   "execution_count": 51,
   "metadata": {},
   "outputs": [],
   "source": [
    "predict_dataset = DatasetForPredict(nan_df)\n",
    "predict_loader = DataLoader(predict_dataset, batch_size=batch_size, shuffle=False)"
   ]
  },
  {
   "cell_type": "code",
   "execution_count": 52,
   "metadata": {},
   "outputs": [],
   "source": [
    "def predictNan(predict_loader):\n",
    "    \n",
    "    y_pred = []\n",
    "    \n",
    "    model.eval()\n",
    "    with torch.no_grad():\n",
    "        for data in tqdm(predict_loader):\n",
    "            inputs, ids = data\n",
    "            inputs = inputs['input_ids'].squeeze(1).to(device)\n",
    "            outputs = model(inputs).logits\n",
    "            outputs = F.sigmoid(outputs)\n",
    "            outputs = outputs.detach().cpu().numpy()\n",
    "            for i in range(len(outputs)):\n",
    "                pred = [1 if i>=0.5 else 0 for i in outputs[i]]\n",
    "                pred_id = [ids[i]]+pred\n",
    "                y_pred.append(pred_id)\n",
    "            \n",
    "            \n",
    "    return y_pred\n",
    "    "
   ]
  },
  {
   "cell_type": "code",
   "execution_count": 55,
   "metadata": {},
   "outputs": [
    {
     "name": "stderr",
     "output_type": "stream",
     "text": [
      "100%|██████████| 3842/3842 [10:26<00:00,  6.14it/s]\n"
     ]
    }
   ],
   "source": [
    "y_pred = predictNan(predict_loader)"
   ]
  },
  {
   "cell_type": "code",
   "execution_count": 56,
   "metadata": {},
   "outputs": [],
   "source": [
    "nan_predicted = pd.DataFrame(y_pred,columns=['ticket_id']+types)"
   ]
  },
  {
   "cell_type": "code",
   "execution_count": 57,
   "metadata": {},
   "outputs": [],
   "source": [
    "nan_predicted.to_csv('nan_predicted.csv')"
   ]
  },
  {
   "attachments": {},
   "cell_type": "markdown",
   "metadata": {},
   "source": [
    "# Predict with word"
   ]
  },
  {
   "cell_type": "code",
   "execution_count": 58,
   "metadata": {},
   "outputs": [],
   "source": [
    "test_word = 'ไม่มีที่วางขยะรอจัดเก็บ วางไว้บนทางเท้า'"
   ]
  },
  {
   "cell_type": "code",
   "execution_count": 59,
   "metadata": {},
   "outputs": [],
   "source": [
    "def predict(text):\n",
    "    input = tokenizer(text,padding='max_length', max_length = 256, truncation=True,return_tensors=\"pt\")\n",
    "    input = input['input_ids'].squeeze(1).to(device)\n",
    "    output = model(input).logits\n",
    "    output = F.sigmoid(output)\n",
    "    \n",
    "    \n",
    "    return output"
   ]
  },
  {
   "cell_type": "code",
   "execution_count": 60,
   "metadata": {},
   "outputs": [],
   "source": [
    "res = predict(test_word).detach().cpu().numpy()"
   ]
  },
  {
   "cell_type": "code",
   "execution_count": 61,
   "metadata": {},
   "outputs": [],
   "source": [
    "res_pandas = pd.DataFrame(res,columns=types)"
   ]
  },
  {
   "cell_type": "code",
   "execution_count": 62,
   "metadata": {},
   "outputs": [],
   "source": [
    "sort_res = res_pandas.sort_values(axis=1,by=0)"
   ]
  },
  {
   "cell_type": "code",
   "execution_count": 63,
   "metadata": {},
   "outputs": [
    {
     "data": {
      "text/plain": [
       "<BarContainer object of 24 artists>"
      ]
     },
     "execution_count": 63,
     "metadata": {},
     "output_type": "execute_result"
    },
    {
     "data": {
      "image/png": "[encoded data removed]",
      "text/plain": [
       "<Figure size 1600x900 with 1 Axes>"
      ]
     },
     "metadata": {},
     "output_type": "display_data"
    }
   ],
   "source": [
    "plt.rcParams['font.family']='Tahoma'\n",
    "plt.figure(figsize=(16,9))\n",
    "plt.bar(sort_res.columns,sort_res.loc[0])"
   ]
  },
  {
   "cell_type": "code",
   "execution_count": 64,
   "metadata": {},
   "outputs": [
    {
     "data": {
      "text/plain": [
       "['ถนน',\n",
       " 'ทางเท้า',\n",
       " 'แสงสว่าง',\n",
       " 'ความปลอดภัย',\n",
       " 'น้ำท่วม',\n",
       " 'ความสะอาด',\n",
       " 'กีดขวาง',\n",
       " 'ท่อระบายน้ำ',\n",
       " 'สะพาน',\n",
       " 'จราจร',\n",
       " 'สายไฟ',\n",
       " 'คลอง',\n",
       " 'เสียงรบกวน',\n",
       " 'ต้นไม้',\n",
       " 'ร้องเรียน',\n",
       " 'ป้าย',\n",
       " 'สัตว์จรจัด',\n",
       " 'PM25',\n",
       " 'สอบถาม',\n",
       " 'เสนอแนะ',\n",
       " 'คนจรจัด',\n",
       " 'การเดินทาง',\n",
       " 'ห้องน้ำ',\n",
       " 'ป้ายจราจร']"
      ]
     },
     "execution_count": 64,
     "metadata": {},
     "output_type": "execute_result"
    }
   ],
   "source": [
    "types"
   ]
  }
 ],
 "metadata": {
  "kernelspec": {
   "display_name": "pytorch",
   "language": "python",
   "name": "python3"
  },
  "language_info": {
   "codemirror_mode": {
    "name": "ipython",
    "version": 3
   },
   "file_extension": ".py",
   "mimetype": "text/x-python",
   "name": "python",
   "nbconvert_exporter": "python",
   "pygments_lexer": "ipython3",
   "version": "3.11.3"
  },
  "orig_nbformat": 4
 },
 "nbformat": 4,
 "nbformat_minor": 2
}
